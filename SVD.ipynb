{
 "cells": [
  {
   "cell_type": "markdown",
   "metadata": {},
   "source": [
    "Using:\n",
    "    https://gist.github.com/EdwardJRoss/86b31848a7951411de56f10f55e9de4e\n",
    "    https://forums.fast.ai/t/character-level-language-model/31379\n",
    "    \n",
    "Lesson 4 RNN\n"
   ]
  },
  {
   "cell_type": "code",
   "execution_count": 2,
   "metadata": {},
   "outputs": [],
   "source": [
    "%reload_ext autoreload\n",
    "%autoreload 2\n",
    "%matplotlib inline"
   ]
  },
  {
   "cell_type": "code",
   "execution_count": 3,
   "metadata": {},
   "outputs": [],
   "source": [
    "from fastai import *\n",
    "from fastai.text import *\n",
    "import string\n",
    "from unidecode import unidecode\n",
    "from scipy import linalg"
   ]
  },
  {
   "cell_type": "markdown",
   "metadata": {},
   "source": [
    "## Simple example\n",
    "\n",
    "To understand it"
   ]
  },
  {
   "cell_type": "code",
   "execution_count": 113,
   "metadata": {},
   "outputs": [],
   "source": [
    "A = array([[10,0,0,30,20,0], [30,0,0,10,20,0], [0,20,30,0,0,10],[20,0,0,20,30,0],[0,20,30,0,0,20]\n",
    "           ,[0,30,30,0,0,10],[50,0,0,30,60,0]])"
   ]
  },
  {
   "cell_type": "code",
   "execution_count": 138,
   "metadata": {},
   "outputs": [],
   "source": [
    "A2 = array([[1,0,0,3,2,0], [3,0,0,1,2,0], [0,2,3,0,0,1],[2,0,0,2,3,0],[0,2,3,0,0,2]\n",
    "           ,[0,3,3,0,0,1],[5,0,0,3,6,0]])"
   ]
  },
  {
   "cell_type": "code",
   "execution_count": 139,
   "metadata": {},
   "outputs": [],
   "source": [
    "U, s, VT = linalg.svd(A)"
   ]
  },
  {
   "cell_type": "code",
   "execution_count": 141,
   "metadata": {},
   "outputs": [],
   "source": [
    "U2, s2, VT2 = linalg.svd(A2)"
   ]
  },
  {
   "cell_type": "code",
   "execution_count": 116,
   "metadata": {},
   "outputs": [
    {
     "name": "stdout",
     "output_type": "stream",
     "text": [
      "[[-3.097382e-01  2.103239e-16  8.445550e-01 -1.439169e-16  3.812276e-01  3.739528e-16  2.132007e-01]\n",
      " [-3.399443e-01  1.617456e-16 -4.347678e-01 -3.909354e-16  8.062011e-01  2.786990e-16 -2.132007e-01]\n",
      " [ 6.190139e-19  5.327698e-01 -7.979174e-17  5.716015e-02 -2.072117e-16  8.443276e-01  2.220446e-16]\n",
      " [-3.910619e-01 -1.164016e-16  1.995256e-01 -4.663722e-16 -2.828204e-01 -2.242653e-16 -8.528029e-01]\n",
      " [ 9.029169e-19  5.800513e-01 -1.163872e-16 -7.511422e-01 -3.022468e-16 -3.151601e-01  7.569452e-16]\n",
      " [-9.029169e-19  6.161955e-01  1.163872e-16  6.576611e-01  3.022468e-16 -4.333417e-01 -1.342719e-16]\n",
      " [-7.972269e-01 -9.255147e-17 -2.406103e-01  4.498935e-16 -3.531541e-01 -1.523039e-16  4.264014e-01]]\n",
      "[104.676504  69.8832    21.799782   9.870251   8.221858   4.349309]\n",
      "[[-5.825404e-01  0.000000e+00  0.000000e+00 -4.244471e-01 -6.931749e-01  0.000000e+00]\n",
      " [ 0.000000e+00  5.830054e-01  7.422456e-01 -1.428398e-16  1.804656e-16  3.304182e-01]\n",
      " [-5.797070e-01  5.551115e-17  0.000000e+00  8.147410e-01 -1.170218e-02  0.000000e+00]\n",
      " [-0.000000e+00  5.927095e-01 -1.103953e-01  8.272856e-17  9.823742e-17 -7.978147e-01]\n",
      " [ 5.697249e-01  0.000000e+00  0.000000e+00  3.950213e-01 -7.206745e-01  0.000000e+00]\n",
      " [-0.000000e+00 -5.556979e-01  6.609723e-01 -6.580613e-17 -5.143155e-17 -5.042970e-01]]\n"
     ]
    }
   ],
   "source": [
    "print(U)\n",
    "print(s)\n",
    "print(VT)"
   ]
  },
  {
   "cell_type": "code",
   "execution_count": 117,
   "metadata": {},
   "outputs": [
    {
     "data": {
      "text/plain": [
       "array([[4, 0, 3, 1, 2, 5],\n",
       "       [3, 0, 4, 5, 1, 2],\n",
       "       [0, 4, 2, 5, 1, 3],\n",
       "       [5, 2, 0, 3, 4, 1],\n",
       "       [4, 1, 2, 5, 3, 0],\n",
       "       [1, 5, 3, 4, 0, 2]])"
      ]
     },
     "execution_count": 117,
     "metadata": {},
     "output_type": "execute_result"
    }
   ],
   "source": [
    "np.argsort(VT)"
   ]
  },
  {
   "cell_type": "code",
   "execution_count": 142,
   "metadata": {},
   "outputs": [
    {
     "data": {
      "text/plain": [
       "array([[4, 0, 3, 1, 2, 5],\n",
       "       [3, 0, 4, 5, 1, 2],\n",
       "       [0, 4, 1, 2, 5, 3],\n",
       "       [5, 2, 4, 0, 3, 1],\n",
       "       [4, 1, 2, 5, 3, 0],\n",
       "       [1, 5, 3, 0, 4, 2]])"
      ]
     },
     "execution_count": 142,
     "metadata": {},
     "output_type": "execute_result"
    }
   ],
   "source": [
    "np.argsort(VT2)"
   ]
  },
  {
   "cell_type": "markdown",
   "metadata": {},
   "source": [
    "## Prepare data\n",
    "\n",
    "Load in the data"
   ]
  },
  {
   "cell_type": "code",
   "execution_count": 6,
   "metadata": {},
   "outputs": [],
   "source": [
    "df = pd.read_csv('/home/trpb2/data/takeaway/raw_just_eat_multi.csv')"
   ]
  },
  {
   "cell_type": "code",
   "execution_count": 7,
   "metadata": {},
   "outputs": [
    {
     "data": {
      "text/html": [
       "<div>\n",
       "<style scoped>\n",
       "    .dataframe tbody tr th:only-of-type {\n",
       "        vertical-align: middle;\n",
       "    }\n",
       "\n",
       "    .dataframe tbody tr th {\n",
       "        vertical-align: top;\n",
       "    }\n",
       "\n",
       "    .dataframe thead th {\n",
       "        text-align: right;\n",
       "    }\n",
       "</style>\n",
       "<table border=\"1\" class=\"dataframe\">\n",
       "  <thead>\n",
       "    <tr style=\"text-align: right;\">\n",
       "      <th></th>\n",
       "      <th>label1</th>\n",
       "      <th>label2</th>\n",
       "      <th>label3</th>\n",
       "      <th>text</th>\n",
       "    </tr>\n",
       "  </thead>\n",
       "  <tbody>\n",
       "    <tr>\n",
       "      <th>0</th>\n",
       "      <td>Middle Eastern</td>\n",
       "      <td>Grill</td>\n",
       "      <td>NaN</td>\n",
       "      <td>taste of afghanistan</td>\n",
       "    </tr>\n",
       "    <tr>\n",
       "      <th>1</th>\n",
       "      <td>Middle Eastern</td>\n",
       "      <td>Kebab</td>\n",
       "      <td>NaN</td>\n",
       "      <td>masa restaurant harrow</td>\n",
       "    </tr>\n",
       "    <tr>\n",
       "      <th>2</th>\n",
       "      <td>Middle Eastern</td>\n",
       "      <td>Kebab</td>\n",
       "      <td>NaN</td>\n",
       "      <td>kobeda king</td>\n",
       "    </tr>\n",
       "    <tr>\n",
       "      <th>3</th>\n",
       "      <td>Middle Eastern</td>\n",
       "      <td>Indian</td>\n",
       "      <td>NaN</td>\n",
       "      <td>taste of afghan</td>\n",
       "    </tr>\n",
       "    <tr>\n",
       "      <th>4</th>\n",
       "      <td>Middle Eastern</td>\n",
       "      <td>Middle Eastern</td>\n",
       "      <td>NaN</td>\n",
       "      <td>ariana restaurant</td>\n",
       "    </tr>\n",
       "  </tbody>\n",
       "</table>\n",
       "</div>"
      ],
      "text/plain": [
       "           label1          label2  label3                    text\n",
       "0  Middle Eastern           Grill     NaN    taste of afghanistan\n",
       "1  Middle Eastern           Kebab     NaN  masa restaurant harrow\n",
       "2  Middle Eastern           Kebab     NaN             kobeda king\n",
       "3  Middle Eastern          Indian     NaN         taste of afghan\n",
       "4  Middle Eastern  Middle Eastern     NaN       ariana restaurant"
      ]
     },
     "execution_count": 7,
     "metadata": {},
     "output_type": "execute_result"
    }
   ],
   "source": [
    "df.head()"
   ]
  },
  {
   "cell_type": "code",
   "execution_count": 69,
   "metadata": {},
   "outputs": [],
   "source": [
    "df_cross = pd.crosstab(df['label2'], df['label1'], dropna=True)"
   ]
  },
  {
   "cell_type": "code",
   "execution_count": 130,
   "metadata": {},
   "outputs": [
    {
     "data": {
      "text/plain": [
       "pandas.core.series.Series"
      ]
     },
     "execution_count": 130,
     "metadata": {},
     "output_type": "execute_result"
    }
   ],
   "source": [
    "type(df_cross.American)"
   ]
  },
  {
   "cell_type": "code",
   "execution_count": 71,
   "metadata": {},
   "outputs": [
    {
     "name": "stdout",
     "output_type": "stream",
     "text": [
      "CPU times: user 0 ns, sys: 573 µs, total: 573 µs\n",
      "Wall time: 575 µs\n"
     ]
    }
   ],
   "source": [
    "%time U, s, Vh = linalg.svd(df_cross, full_matrices=True)"
   ]
  },
  {
   "cell_type": "code",
   "execution_count": 72,
   "metadata": {},
   "outputs": [
    {
     "name": "stdout",
     "output_type": "stream",
     "text": [
      "(26, 26) (26,) (26, 26)\n"
     ]
    }
   ],
   "source": [
    "print(U.shape, s.shape, Vh.shape)"
   ]
  },
  {
   "cell_type": "code",
   "execution_count": 73,
   "metadata": {},
   "outputs": [
    {
     "data": {
      "text/plain": [
       "[<matplotlib.lines.Line2D at 0x2ad9eb3afe48>]"
      ]
     },
     "execution_count": 73,
     "metadata": {},
     "output_type": "execute_result"
    },
    {
     "data": {
      "image/png": "[encoded data removed]",
      "text/plain": [
       "<Figure size 432x288 with 1 Axes>"
      ]
     },
     "metadata": {
      "needs_background": "light"
     },
     "output_type": "display_data"
    }
   ],
   "source": [
    "plt.plot(s[:10])"
   ]
  },
  {
   "cell_type": "code",
   "execution_count": 99,
   "metadata": {},
   "outputs": [
    {
     "data": {
      "text/plain": [
       "array([4.181560e+03, 2.316083e+03, 2.296723e+03, 1.731224e+03, 7.642762e+02, 4.449425e+02, 3.668819e+02, 3.430166e+02,\n",
       "       3.262590e+02, 2.975613e+02, 2.889816e+02, 2.165430e+02, 2.020427e+02, 1.208416e+02, 1.102303e+02, 8.326939e+01,\n",
       "       7.506733e+01, 7.395067e+01, 5.507604e+01, 3.473805e+01, 3.039494e+01, 2.279083e+01, 2.092244e+01, 1.273709e+01,\n",
       "       5.641026e+00, 2.998148e+00])"
      ]
     },
     "execution_count": 99,
     "metadata": {},
     "output_type": "execute_result"
    }
   ],
   "source": [
    "s"
   ]
  },
  {
   "cell_type": "code",
   "execution_count": 85,
   "metadata": {},
   "outputs": [],
   "source": [
    "vocab = df_cross.columns.values\n",
    "num_top_words = 3"
   ]
  },
  {
   "cell_type": "code",
   "execution_count": 9,
   "metadata": {},
   "outputs": [],
   "source": [
    "def show_topics(a):\n",
    "    top_words = lambda t: [vocab[i] for i in np.argsort(t)[:-num_top_words-1:-1]]\n",
    "    topic_words = ([top_words(t) for t in a])\n",
    "    return [' '.join(t) for t in topic_words]"
   ]
  },
  {
   "cell_type": "code",
   "execution_count": 87,
   "metadata": {},
   "outputs": [
    {
     "data": {
      "text/plain": [
       "['Noodles Japanese Sandwiches',\n",
       " 'Indian Sandwiches British',\n",
       " 'Chinese Thai Indian',\n",
       " 'Italian Kebab Chicken',\n",
       " 'Desserts Burgers Breakfast',\n",
       " 'Fish & Chips Turkish Desserts',\n",
       " 'Chicken Breakfast Sandwiches',\n",
       " 'Caribbean Burgers Fish & Chips',\n",
       " 'Chicken Caribbean American',\n",
       " 'Fish & Chips Burgers Chinese']"
      ]
     },
     "execution_count": 87,
     "metadata": {},
     "output_type": "execute_result"
    }
   ],
   "source": [
    "show_topics(Vh[:10])"
   ]
  },
  {
   "cell_type": "code",
   "execution_count": 98,
   "metadata": {},
   "outputs": [
    {
     "data": {
      "text/plain": [
       "((26, 26),\n",
       " array([[-8.136001e-03, -1.761384e-03, -1.523443e-03, -9.248221e-04, ..., -8.519482e-02, -5.867389e-04, -7.206973e-03,\n",
       "         -9.425864e-03],\n",
       "        [-4.631174e-02, -1.152130e-02, -1.524997e-02, -4.328576e-03, ..., -7.560781e-01, -4.069314e-03, -3.920102e-02,\n",
       "         -8.313406e-02],\n",
       "        [-3.129832e-02,  1.500822e-02, -8.611108e-03, -2.138320e-03, ..., -5.280876e-01, -2.613023e-03,  6.061425e-02,\n",
       "         -5.805050e-02],\n",
       "        [ 5.776551e-02, -8.094388e-04,  5.518020e-03,  5.149626e-03, ..., -3.051670e-01,  3.537164e-03, -2.610700e-03,\n",
       "         -1.882366e-02],\n",
       "        ...,\n",
       "        [-5.500741e-02, -1.004411e-01,  7.112017e-02,  1.577031e-01, ...,  2.830311e-03, -5.321939e-02,  5.302666e-02,\n",
       "          1.217678e-01],\n",
       "        [-9.214771e-02, -7.402005e-02,  3.495077e-01, -2.947950e-01, ..., -3.223868e-03, -1.883182e-01,  6.267464e-02,\n",
       "         -9.853595e-03],\n",
       "        [-2.572796e-01,  1.181674e-01, -1.286856e-01, -8.121070e-02, ...,  2.258461e-02,  8.580010e-02, -1.294427e-02,\n",
       "         -2.534523e-01],\n",
       "        [-3.007641e-02, -3.389416e-01, -4.351524e-02,  3.509560e-02, ...,  3.769215e-03,  2.422274e-02, -7.794880e-02,\n",
       "         -2.843193e-02]]))"
      ]
     },
     "execution_count": 98,
     "metadata": {},
     "output_type": "execute_result"
    }
   ],
   "source": [
    "Vh.shape,Vh[:10]"
   ]
  },
  {
   "cell_type": "code",
   "execution_count": 94,
   "metadata": {},
   "outputs": [
    {
     "name": "stdout",
     "output_type": "stream",
     "text": [
      "[13 22 16 14 11  6  7  4 25  0  8 12 24 21  9 17  5  1  2 19 10  3 18 23 15 20]\n",
      "[22  7 11 14  6 16 25  4  0 24 21  9 12  8 17  2 15  1 19 18 10  5 20  3 23 13]\n",
      "[22 11 14  6 16 25  4  0 21  9 12 17  8  2 19 18  5 23  3 10 20  1 15 13 24  7]\n",
      "[22 13 25  7 24  1 19 20 15 17  5 23  3  2  9 18 10  8 12 21  4  0 11  6 16 14]\n",
      "[11 25 14 22 16 17  8 19  7 20 24 13 15 18 10 12  1  3 21  5  6  0 23  2  4  9]\n",
      "[ 4  6 21  5  0 23  2 18 16 12 24  1  7 15 13 22 20  3 10 17 19  8 14  9 25 11]\n",
      "[14  4 22  9  7 15 24  1 13 20  8 19 10 18 21 25 17 12 16  3  0  5 11 23  2  6]\n",
      "[ 6  0 16 22  2  9 15 18  7 12 24 20 13  1 10  8 19 23 17  3 14 25 21 11  4  5]\n",
      "[23  2  4 14  3 11 25 17 10 19  1 13  7 24 18 20  8 15 21 22 12  9 16  0  5  6]\n",
      "[15  1 24  5 23 14 22 20  2 16 17  0 19 18 10 13  8  9 12  3 25  6 21  7  4 11]\n"
     ]
    }
   ],
   "source": [
    "for t in Vh[:10]:\n",
    "    print(np.argsort(t))"
   ]
  },
  {
   "cell_type": "markdown",
   "metadata": {},
   "source": [
    "## Prepare data\n",
    "\n",
    "Load in the data"
   ]
  },
  {
   "cell_type": "code",
   "execution_count": 118,
   "metadata": {},
   "outputs": [],
   "source": [
    "df4 = pd.read_csv('names_clean_multi.csv')"
   ]
  },
  {
   "cell_type": "code",
   "execution_count": 135,
   "metadata": {},
   "outputs": [],
   "source": [
    "df5 = df4.drop(['ascii_name_fix', 'valid', 'bal'], axis=1)"
   ]
  },
  {
   "cell_type": "code",
   "execution_count": 144,
   "metadata": {},
   "outputs": [],
   "source": [
    "vocab = df5.columns.values"
   ]
  },
  {
   "cell_type": "code",
   "execution_count": 146,
   "metadata": {},
   "outputs": [
    {
     "name": "stdout",
     "output_type": "stream",
     "text": [
      "CPU times: user 32.1 s, sys: 724 ms, total: 32.8 s\n",
      "Wall time: 32.7 s\n"
     ]
    }
   ],
   "source": [
    "%time U, s, Vh = linalg.svd(df5, full_matrices=False)"
   ]
  },
  {
   "cell_type": "code",
   "execution_count": 147,
   "metadata": {},
   "outputs": [
    {
     "data": {
      "text/plain": [
       "['Japanese Noodles Caribbean',\n",
       " 'Pizza Kebab Italian',\n",
       " 'Chinese Kebab Fish & Chips',\n",
       " 'Chinese Italian Pizza',\n",
       " 'Italian Kebab Pizza',\n",
       " 'Kebab Chicken Chinese',\n",
       " 'Chicken Peri Peri Pizza',\n",
       " 'Italian Chicken Kebab',\n",
       " 'Burgers Curry Pizza',\n",
       " 'Curry Desserts Thai']"
      ]
     },
     "execution_count": 147,
     "metadata": {},
     "output_type": "execute_result"
    }
   ],
   "source": [
    "show_topics(Vh[:10])"
   ]
  },
  {
   "cell_type": "code",
   "execution_count": 143,
   "metadata": {},
   "outputs": [
    {
     "data": {
      "text/plain": [
       "[<matplotlib.lines.Line2D at 0x2ad9ec8551d0>]"
      ]
     },
     "execution_count": 143,
     "metadata": {},
     "output_type": "execute_result"
    },
    {
     "data": {
      "image/png": "[encoded data removed]",
      "text/plain": [
       "<Figure size 432x288 with 1 Axes>"
      ]
     },
     "metadata": {
      "needs_background": "light"
     },
     "output_type": "display_data"
    }
   ],
   "source": [
    "plt.plot(s[:10])"
   ]
  },
  {
   "cell_type": "markdown",
   "metadata": {},
   "source": [
    "## K mode input"
   ]
  },
  {
   "cell_type": "code",
   "execution_count": 5,
   "metadata": {},
   "outputs": [],
   "source": [
    "df = pd.read_csv('kmode_input.csv')"
   ]
  },
  {
   "cell_type": "code",
   "execution_count": 14,
   "metadata": {},
   "outputs": [],
   "source": [
    "vocab = df.columns.values\n",
    "num_top_words = 5"
   ]
  },
  {
   "cell_type": "code",
   "execution_count": 15,
   "metadata": {},
   "outputs": [
    {
     "name": "stdout",
     "output_type": "stream",
     "text": [
      "CPU times: user 321 ms, sys: 12.9 ms, total: 334 ms\n",
      "Wall time: 331 ms\n"
     ]
    }
   ],
   "source": [
    "%time U, s, Vh = linalg.svd(df, full_matrices=False)"
   ]
  },
  {
   "cell_type": "code",
   "execution_count": 16,
   "metadata": {},
   "outputs": [
    {
     "data": {
      "text/plain": [
       "['West African Filipino Organic Ethiopian Latin American',\n",
       " 'Indian Curry Bangladeshi Nepalese Pakistani',\n",
       " 'Chinese Oriental Thai Noodles Fish & Chips',\n",
       " 'Kebab Fish & Chips Turkish Grill British',\n",
       " 'Burgers Chicken American Peri Peri Fish & Chips',\n",
       " 'Kebab Chicken Oriental Turkish American',\n",
       " 'Chicken Peri Peri Pizza Fish & Chips Grill',\n",
       " 'Italian Chicken Kebab American Fish & Chips',\n",
       " 'Burgers Curry Pizza Italian Oriental',\n",
       " 'Indian Bangladeshi Grill Nepalese Vegetarian',\n",
       " 'Desserts Burgers American Fish & Chips Ice Cream',\n",
       " 'Grill Turkish Peri Peri American Lebanese',\n",
       " 'American Breakfast English Pizza Sandwiches',\n",
       " 'Thai Noodles Chinese Asian Japanese',\n",
       " 'Peri Peri Kebab Grill Italian Thai',\n",
       " 'Thai Oriental Grill Chicken Bangladeshi',\n",
       " 'Peri Peri Turkish Thai Oriental Mediterranean',\n",
       " 'Caribbean Jamaican Peri Peri English Oriental',\n",
       " 'English Indian Thai Nepalese Chinese',\n",
       " 'Indian Japanese Sushi Oriental Nepalese',\n",
       " 'English Oriental Japanese Sushi Thai',\n",
       " 'British English Pies  Kebab Sandwiches',\n",
       " 'Mediterranean Lebanese Greek Middle Eastern Vegetarian',\n",
       " 'Café Breakfast Lunch British Healthy',\n",
       " 'Chinese Thai Vegetarian Vegan Healthy',\n",
       " 'Fast Food Café Vegan Mexican Lebanese',\n",
       " 'Noodles Oriental Fast Food Sushi Mediterranean',\n",
       " 'Ice Cream Fast Food Breakfast Asian Lunch',\n",
       " 'Mediterranean Milkshakes Cakes Breakfast Desserts',\n",
       " 'Lebanese Middle Eastern Milkshakes Breakfast Cakes',\n",
       " 'Vegan Mexican Vegetarian Healthy Mediterranean',\n",
       " 'Mexican Burritos Lebanese Café Tex Mex',\n",
       " 'Healthy Pasta Milkshakes Smoothies Salads',\n",
       " 'Pasta Vegetarian Cakes Mexican Desserts',\n",
       " 'Cakes Healthy Desserts Lunch Lebanese',\n",
       " 'Vegan Pasta Nepalese Pakistani Mediterranean',\n",
       " 'Nepalese Bangladeshi Vegetarian Curry Asian',\n",
       " 'African Breakfast Pakistani Nigerian Healthy',\n",
       " 'African Lunch Nigerian Caribbean Sandwiches',\n",
       " 'Pakistani Nepalese Middle Eastern Cakes Greek',\n",
       " 'Lebanese Pakistani Cakes Nepalese Ice Cream',\n",
       " 'Desserts Pakistani Nepalese Lunch Crepes',\n",
       " 'Greek Lebanese Pakistani European Turkish',\n",
       " 'Persian Iranian Lebanese Greek Afghan',\n",
       " 'Greek British South Indian Caribbean Middle Eastern',\n",
       " 'Caribbean Gourmet BBQ Smoothies Seafood',\n",
       " 'European Caribbean Burgers Healthy Peri Peri',\n",
       " 'Sushi Steak Salads Asian Vietnamese',\n",
       " 'Steak Japanese Spanish Korean Argentinian',\n",
       " 'Salads Greek Sandwiches European Café',\n",
       " 'South Indian Sri-lankan Nepalese Pakistani Curry',\n",
       " 'Gourmet Wraps Japanese Caribbean Malaysian',\n",
       " 'Malaysian Asian Smoothies Sushi Dinner',\n",
       " 'Asian Cantonese Dim Sum Chinese Sushi',\n",
       " 'Wraps Gluten Free Parmesans BBQ Egyptian',\n",
       " 'Salads Korean Cantonese Deli Bagels',\n",
       " 'Arabic Seafood Ethiopian Moroccan South Indian',\n",
       " 'Street Food Arabic Sri-lankan Fusion Salads',\n",
       " 'Drinks Street Food Bubble Tea Arabic Salads',\n",
       " 'Arabic Spanish Portuguese Caribbean Tapas',\n",
       " 'Spanish Portuguese Tapas Seafood Arabic',\n",
       " 'Salads Fusion Japanese BBQ Chinese',\n",
       " 'South Indian Fusion Street Food Cantonese Asian',\n",
       " 'Korean Street Food South Indian Sushi Smoothies',\n",
       " 'Cantonese Salads Japanese Portuguese Street Food',\n",
       " 'Portuguese Korean Fusion Burritos Sushi',\n",
       " \"Panini's Smoothies Crepes Dinner Burritos\",\n",
       " 'Iranian Pakistani BBQ Middle Eastern Persian',\n",
       " 'Smoothies Crepes Deli Afghan Mexican',\n",
       " \"Smoothies Waffles Panini's Salads Fusion\",\n",
       " 'Pasta Roast Dinners Crepes Milkshakes Fast Food',\n",
       " 'Bubble Tea Korean Fusion Dinner Afghan',\n",
       " \"Roast Dinners Tex Mex Panini's English Breakfast Mexican\",\n",
       " \"Dinner Mexican Panini's Tex Mex South American\",\n",
       " 'Dinner Burritos Cantonese Chinese Sushi',\n",
       " 'Dinner Burritos Roast Dinners Dim Sum Brunch',\n",
       " \"Crepes Waffles Smoothies Panini's Ice Cream\",\n",
       " 'Moroccan French Organic Nigerian Middle Eastern',\n",
       " 'Nigerian Bagels Caribbean Portuguese Spanish',\n",
       " \"French Kurdish Organic Nigerian Panini's\",\n",
       " \"Nigerian Panini's Sweets Salads Deli\",\n",
       " 'Parmesans Iranian Pies  Tex Mex Bagels',\n",
       " 'Iranian Afghan Middle Eastern Mediterranean Romanian',\n",
       " 'British Gluten Free Pub Food English Bagels',\n",
       " 'European Pies  Sweets Romanian Arabic',\n",
       " 'Desserts Gluten Free Pancakes Jamaican African',\n",
       " 'Gluten Free Latin American Brazilian food Pies  Sweets',\n",
       " 'Spanish Tex Mex Gluten Free African Japanese',\n",
       " 'Brunch English Breakfast Scottish Spanish Gluten Free',\n",
       " 'Tex Mex Tapas Gluten Free Burritos Brunch',\n",
       " 'Polish Eastern European Romanian Arabic Bulgarian',\n",
       " 'Romanian Eastern European Continental Russian French',\n",
       " 'Biryani Punjabi Indo-Chinese Fusion Indian Eastern European',\n",
       " 'Tapas Gourmet Burgers  English Breakfast Gluten Free Mexican',\n",
       " 'English Breakfast South American Brazilian food Tex Mex Dinner',\n",
       " 'Gourmet Burgers  South American Brazilian food Tex Mex Burritos',\n",
       " 'Syrian Moroccan Arabic Ethiopian Organic',\n",
       " 'Desserts English Breakfast Breakfast Eastern European Egyptian',\n",
       " 'Eastern European Russian Bulgarian Continental European',\n",
       " 'Brazilian food Latin American Filipino Tapas Pub Food']"
      ]
     },
     "execution_count": 16,
     "metadata": {},
     "output_type": "execute_result"
    }
   ],
   "source": [
    "show_topics(Vh[:100])"
   ]
  },
  {
   "cell_type": "code",
   "execution_count": 143,
   "metadata": {},
   "outputs": [
    {
     "data": {
      "text/plain": [
       "[<matplotlib.lines.Line2D at 0x2ad9ec8551d0>]"
      ]
     },
     "execution_count": 143,
     "metadata": {},
     "output_type": "execute_result"
    },
    {
     "data": {
      "image/png": "[encoded data removed]",
      "text/plain": [
       "<Figure size 432x288 with 1 Axes>"
      ]
     },
     "metadata": {
      "needs_background": "light"
     },
     "output_type": "display_data"
    }
   ],
   "source": [
    "plt.plot(s[:10])"
   ]
  },
  {
   "cell_type": "code",
   "execution_count": null,
   "metadata": {},
   "outputs": [],
   "source": []
  }
 ],
 "metadata": {
  "kernelspec": {
   "display_name": "Python 3",
   "language": "python",
   "name": "python3"
  },
  "language_info": {
   "codemirror_mode": {
    "name": "ipython",
    "version": 3
   },
   "file_extension": ".py",
   "mimetype": "text/x-python",
   "name": "python",
   "nbconvert_exporter": "python",
   "pygments_lexer": "ipython3",
   "version": "3.7.2"
  }
 },
 "nbformat": 4,
 "nbformat_minor": 2
}
