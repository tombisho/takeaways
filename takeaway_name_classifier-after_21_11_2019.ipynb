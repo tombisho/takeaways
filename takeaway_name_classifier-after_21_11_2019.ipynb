{
 "cells": [
  {
   "cell_type": "markdown",
   "metadata": {},
   "source": [
    "Using:\n",
    "    https://gist.github.com/EdwardJRoss/86b31848a7951411de56f10f55e9de4e\n",
    "    https://forums.fast.ai/t/character-level-language-model/31379\n",
    "    \n",
    "Lesson 3 RNN\n"
   ]
  },
  {
   "cell_type": "code",
   "execution_count": 1,
   "metadata": {},
   "outputs": [],
   "source": [
    "%reload_ext autoreload\n",
    "%autoreload 2\n",
    "%matplotlib inline"
   ]
  },
  {
   "cell_type": "code",
   "execution_count": 2,
   "metadata": {},
   "outputs": [],
   "source": [
    "from fastai import *\n",
    "from fastai.text import *\n",
    "import string\n",
    "from unidecode import unidecode\n"
   ]
  },
  {
   "cell_type": "code",
   "execution_count": 4,
   "metadata": {},
   "outputs": [
    {
     "data": {
      "text/plain": [
       "'Tesla P100-PCIE-16GB'"
      ]
     },
     "execution_count": 4,
     "metadata": {},
     "output_type": "execute_result"
    }
   ],
   "source": [
    "torch.cuda.get_device_name(0)"
   ]
  },
  {
   "cell_type": "code",
   "execution_count": 3,
   "metadata": {},
   "outputs": [],
   "source": [
    "df = pd.read_csv('/home/trpb2/data/takeaway/after_21_11_2019_meeting.csv')"
   ]
  },
  {
   "cell_type": "code",
   "execution_count": 4,
   "metadata": {},
   "outputs": [],
   "source": [
    "df['text'] = df.text.str.lower()"
   ]
  },
  {
   "cell_type": "markdown",
   "metadata": {},
   "source": [
    "## Character Set\n",
    "\n",
    "What letters outside of ASCII are in the names?\n"
   ]
  },
  {
   "cell_type": "code",
   "execution_count": 5,
   "metadata": {},
   "outputs": [
    {
     "data": {
      "text/plain": [
       "[(' ', 78388),\n",
       " (\"'\", 57093),\n",
       " (',', 29912),\n",
       " ('\"', 5670),\n",
       " ('&', 2783),\n",
       " ('-', 1163),\n",
       " ('(', 304),\n",
       " (')', 304),\n",
       " ('’', 270),\n",
       " ('2', 239),\n",
       " ('1', 222),\n",
       " ('.', 220),\n",
       " ('@', 205),\n",
       " ('4', 122),\n",
       " ('0', 114),\n",
       " ('3', 83),\n",
       " ('8', 74),\n",
       " ('9', 61),\n",
       " ('7', 54),\n",
       " ('6', 52),\n",
       " ('5', 52),\n",
       " ('é', 31),\n",
       " ('`', 26),\n",
       " ('!', 25),\n",
       " ('´', 19),\n",
       " ('/', 14),\n",
       " ('#', 7),\n",
       " ('‘', 7),\n",
       " ('+', 7),\n",
       " (':', 4),\n",
       " ('ê', 4),\n",
       " ('–', 4),\n",
       " ('?', 4),\n",
       " ('°', 3),\n",
       " ('*', 3),\n",
       " ('ó', 2),\n",
       " ('%', 2),\n",
       " ('ö', 2),\n",
       " ('è', 2),\n",
       " ('[', 1),\n",
       " ('ü', 1),\n",
       " ('á', 1),\n",
       " ('®', 1),\n",
       " ('~', 1),\n",
       " ('\\\\', 1),\n",
       " ('ä', 1),\n",
       " (']', 1)]"
      ]
     },
     "execution_count": 5,
     "metadata": {},
     "output_type": "execute_result"
    }
   ],
   "source": [
    "foreign_chars = Counter(_ for _ in ''.join(str(list(df.text))) if _ not in string.ascii_letters)\n",
    "foreign_chars.most_common()\n"
   ]
  },
  {
   "cell_type": "code",
   "execution_count": 6,
   "metadata": {},
   "outputs": [
    {
     "data": {
      "text/html": [
       "<div>\n",
       "<style scoped>\n",
       "    .dataframe tbody tr th:only-of-type {\n",
       "        vertical-align: middle;\n",
       "    }\n",
       "\n",
       "    .dataframe tbody tr th {\n",
       "        vertical-align: top;\n",
       "    }\n",
       "\n",
       "    .dataframe thead th {\n",
       "        text-align: right;\n",
       "    }\n",
       "</style>\n",
       "<table border=\"1\" class=\"dataframe\">\n",
       "  <thead>\n",
       "    <tr style=\"text-align: right;\">\n",
       "      <th></th>\n",
       "      <th>label</th>\n",
       "      <th>text</th>\n",
       "      <th>ascii_name</th>\n",
       "    </tr>\n",
       "  </thead>\n",
       "  <tbody>\n",
       "    <tr>\n",
       "      <th>133</th>\n",
       "      <td>Pizza</td>\n",
       "      <td>800°</td>\n",
       "      <td>800deg</td>\n",
       "    </tr>\n",
       "    <tr>\n",
       "      <th>143</th>\n",
       "      <td>Pizza</td>\n",
       "      <td>900° degrees</td>\n",
       "      <td>900deg degrees</td>\n",
       "    </tr>\n",
       "    <tr>\n",
       "      <th>144</th>\n",
       "      <td>Pizza</td>\n",
       "      <td>900° degrees</td>\n",
       "      <td>900deg degrees</td>\n",
       "    </tr>\n",
       "    <tr>\n",
       "      <th>203</th>\n",
       "      <td>Other</td>\n",
       "      <td>aarzoo’s blackpool</td>\n",
       "      <td>aarzoo's blackpool</td>\n",
       "    </tr>\n",
       "    <tr>\n",
       "      <th>238</th>\n",
       "      <td>Indian</td>\n",
       "      <td>abid’s</td>\n",
       "      <td>abid's</td>\n",
       "    </tr>\n",
       "    <tr>\n",
       "      <th>256</th>\n",
       "      <td>Fish &amp; Chips</td>\n",
       "      <td>abu’s fish and chips</td>\n",
       "      <td>abu's fish and chips</td>\n",
       "    </tr>\n",
       "    <tr>\n",
       "      <th>294</th>\n",
       "      <td>Other</td>\n",
       "      <td>adam’s ethiopian restaurant</td>\n",
       "      <td>adam's ethiopian restaurant</td>\n",
       "    </tr>\n",
       "    <tr>\n",
       "      <th>376</th>\n",
       "      <td>Other</td>\n",
       "      <td>afromumii @ lovelygloworm café</td>\n",
       "      <td>afromumii @ lovelygloworm cafe</td>\n",
       "    </tr>\n",
       "    <tr>\n",
       "      <th>429</th>\n",
       "      <td>Burgers</td>\n",
       "      <td>aj’s grill</td>\n",
       "      <td>aj's grill</td>\n",
       "    </tr>\n",
       "    <tr>\n",
       "      <th>552</th>\n",
       "      <td>Sandwich / Coffee Shops / Bakery</td>\n",
       "      <td>al’s place</td>\n",
       "      <td>al's place</td>\n",
       "    </tr>\n",
       "    <tr>\n",
       "      <th>631</th>\n",
       "      <td>Pizza</td>\n",
       "      <td>alessandro’s</td>\n",
       "      <td>alessandro's</td>\n",
       "    </tr>\n",
       "    <tr>\n",
       "      <th>688</th>\n",
       "      <td>Indian</td>\n",
       "      <td>ali’s kitchen</td>\n",
       "      <td>ali's kitchen</td>\n",
       "    </tr>\n",
       "    <tr>\n",
       "      <th>808</th>\n",
       "      <td>Desserts</td>\n",
       "      <td>alpino steak ‘n’ shakes</td>\n",
       "      <td>alpino steak 'n' shakes</td>\n",
       "    </tr>\n",
       "    <tr>\n",
       "      <th>854</th>\n",
       "      <td>Indian</td>\n",
       "      <td>aman’s</td>\n",
       "      <td>aman's</td>\n",
       "    </tr>\n",
       "    <tr>\n",
       "      <th>941</th>\n",
       "      <td>Pizza</td>\n",
       "      <td>amigo´s pizza</td>\n",
       "      <td>amigo's pizza</td>\n",
       "    </tr>\n",
       "    <tr>\n",
       "      <th>1027</th>\n",
       "      <td>Sandwich / Coffee Shops / Bakery</td>\n",
       "      <td>andie’s</td>\n",
       "      <td>andie's</td>\n",
       "    </tr>\n",
       "    <tr>\n",
       "      <th>1053</th>\n",
       "      <td>Desserts</td>\n",
       "      <td>angel’s cakes</td>\n",
       "      <td>angel's cakes</td>\n",
       "    </tr>\n",
       "    <tr>\n",
       "      <th>1055</th>\n",
       "      <td>Pizza</td>\n",
       "      <td>angelo´s pizza</td>\n",
       "      <td>angelo's pizza</td>\n",
       "    </tr>\n",
       "    <tr>\n",
       "      <th>1064</th>\n",
       "      <td>Chicken</td>\n",
       "      <td>angie’s jamaican cuisine</td>\n",
       "      <td>angie's jamaican cuisine</td>\n",
       "    </tr>\n",
       "    <tr>\n",
       "      <th>1147</th>\n",
       "      <td>Pizza</td>\n",
       "      <td>aphrodite’s greek mediterranean cuisine &amp; pizz...</td>\n",
       "      <td>aphrodite's greek mediterranean cuisine &amp; pizz...</td>\n",
       "    </tr>\n",
       "    <tr>\n",
       "      <th>1390</th>\n",
       "      <td>Indian</td>\n",
       "      <td>atiya’s</td>\n",
       "      <td>atiya's</td>\n",
       "    </tr>\n",
       "    <tr>\n",
       "      <th>1391</th>\n",
       "      <td>Sandwich / Coffee Shops / Bakery</td>\n",
       "      <td>atkinson’s sandwich bar</td>\n",
       "      <td>atkinson's sandwich bar</td>\n",
       "    </tr>\n",
       "    <tr>\n",
       "      <th>1422</th>\n",
       "      <td>Desserts</td>\n",
       "      <td>auntie anne’s</td>\n",
       "      <td>auntie anne's</td>\n",
       "    </tr>\n",
       "    <tr>\n",
       "      <th>1423</th>\n",
       "      <td>Desserts</td>\n",
       "      <td>auntie anne’s</td>\n",
       "      <td>auntie anne's</td>\n",
       "    </tr>\n",
       "    <tr>\n",
       "      <th>1432</th>\n",
       "      <td>Other</td>\n",
       "      <td>aunty jenny’s kitchen</td>\n",
       "      <td>aunty jenny's kitchen</td>\n",
       "    </tr>\n",
       "    <tr>\n",
       "      <th>1587</th>\n",
       "      <td>Burgers</td>\n",
       "      <td>bag ó nails</td>\n",
       "      <td>bag o nails</td>\n",
       "    </tr>\n",
       "    <tr>\n",
       "      <th>1777</th>\n",
       "      <td>Burgers</td>\n",
       "      <td>bangerz ‘n’ brewz</td>\n",
       "      <td>bangerz 'n' brewz</td>\n",
       "    </tr>\n",
       "    <tr>\n",
       "      <th>1861</th>\n",
       "      <td>Fish &amp; Chips</td>\n",
       "      <td>bardsley’s fish restaurant</td>\n",
       "      <td>bardsley's fish restaurant</td>\n",
       "    </tr>\n",
       "    <tr>\n",
       "      <th>2337</th>\n",
       "      <td>Burgers</td>\n",
       "      <td>bernie’s diner</td>\n",
       "      <td>bernie's diner</td>\n",
       "    </tr>\n",
       "    <tr>\n",
       "      <th>2452</th>\n",
       "      <td>Kebab</td>\n",
       "      <td>bey’s diner</td>\n",
       "      <td>bey's diner</td>\n",
       "    </tr>\n",
       "    <tr>\n",
       "      <th>...</th>\n",
       "      <td>...</td>\n",
       "      <td>...</td>\n",
       "      <td>...</td>\n",
       "    </tr>\n",
       "    <tr>\n",
       "      <th>24512</th>\n",
       "      <td>Sandwich / Coffee Shops / Bakery</td>\n",
       "      <td>stop ‘n’ go snack bar</td>\n",
       "      <td>stop 'n' go snack bar</td>\n",
       "    </tr>\n",
       "    <tr>\n",
       "      <th>24545</th>\n",
       "      <td>Sandwich / Coffee Shops / Bakery</td>\n",
       "      <td>stuart’s sandwich shop</td>\n",
       "      <td>stuart's sandwich shop</td>\n",
       "    </tr>\n",
       "    <tr>\n",
       "      <th>24551</th>\n",
       "      <td>Sandwich / Coffee Shops / Bakery</td>\n",
       "      <td>stumpy’s shack</td>\n",
       "      <td>stumpy's shack</td>\n",
       "    </tr>\n",
       "    <tr>\n",
       "      <th>24554</th>\n",
       "      <td>Sandwich / Coffee Shops / Bakery</td>\n",
       "      <td>subby’s</td>\n",
       "      <td>subby's</td>\n",
       "    </tr>\n",
       "    <tr>\n",
       "      <th>24684</th>\n",
       "      <td>Fish &amp; Chips</td>\n",
       "      <td>sunny and dee’s traditional chippy</td>\n",
       "      <td>sunny and dee's traditional chippy</td>\n",
       "    </tr>\n",
       "    <tr>\n",
       "      <th>25780</th>\n",
       "      <td>Chicken</td>\n",
       "      <td>that’s it grill</td>\n",
       "      <td>that's it grill</td>\n",
       "    </tr>\n",
       "    <tr>\n",
       "      <th>27542</th>\n",
       "      <td>Sandwich / Coffee Shops / Bakery</td>\n",
       "      <td>tiki’s</td>\n",
       "      <td>tiki's</td>\n",
       "    </tr>\n",
       "    <tr>\n",
       "      <th>27576</th>\n",
       "      <td>Sandwich / Coffee Shops / Bakery</td>\n",
       "      <td>tim’s cafe</td>\n",
       "      <td>tim's cafe</td>\n",
       "    </tr>\n",
       "    <tr>\n",
       "      <th>27625</th>\n",
       "      <td>Fish &amp; Chips</td>\n",
       "      <td>tj’s cafe and diner</td>\n",
       "      <td>tj's cafe and diner</td>\n",
       "    </tr>\n",
       "    <tr>\n",
       "      <th>27658</th>\n",
       "      <td>Pizza</td>\n",
       "      <td>tocco d’artista</td>\n",
       "      <td>tocco d'artista</td>\n",
       "    </tr>\n",
       "    <tr>\n",
       "      <th>27772</th>\n",
       "      <td>Sandwich / Coffee Shops / Bakery</td>\n",
       "      <td>top of the range irish café</td>\n",
       "      <td>top of the range irish cafe</td>\n",
       "    </tr>\n",
       "    <tr>\n",
       "      <th>27820</th>\n",
       "      <td>Sandwich / Coffee Shops / Bakery</td>\n",
       "      <td>topp’s breakfast</td>\n",
       "      <td>topp's breakfast</td>\n",
       "    </tr>\n",
       "    <tr>\n",
       "      <th>27821</th>\n",
       "      <td>Burgers</td>\n",
       "      <td>topp’s hot &amp; cold food bar</td>\n",
       "      <td>topp's hot &amp; cold food bar</td>\n",
       "    </tr>\n",
       "    <tr>\n",
       "      <th>27896</th>\n",
       "      <td>Burgers</td>\n",
       "      <td>toro’s steakhouse liverpool</td>\n",
       "      <td>toro's steakhouse liverpool</td>\n",
       "    </tr>\n",
       "    <tr>\n",
       "      <th>27949</th>\n",
       "      <td>Chicken</td>\n",
       "      <td>tr’s spice island</td>\n",
       "      <td>tr's spice island</td>\n",
       "    </tr>\n",
       "    <tr>\n",
       "      <th>28281</th>\n",
       "      <td>Desserts</td>\n",
       "      <td>unico gelato &amp; caffé</td>\n",
       "      <td>unico gelato &amp; caffe</td>\n",
       "    </tr>\n",
       "    <tr>\n",
       "      <th>28282</th>\n",
       "      <td>Desserts</td>\n",
       "      <td>unico gelato &amp; caffé</td>\n",
       "      <td>unico gelato &amp; caffe</td>\n",
       "    </tr>\n",
       "    <tr>\n",
       "      <th>28283</th>\n",
       "      <td>Desserts</td>\n",
       "      <td>unico gelato &amp; caffè</td>\n",
       "      <td>unico gelato &amp; caffe</td>\n",
       "    </tr>\n",
       "    <tr>\n",
       "      <th>28372</th>\n",
       "      <td>Other</td>\n",
       "      <td>usain bolt’s tracks &amp; records</td>\n",
       "      <td>usain bolt's tracks &amp; records</td>\n",
       "    </tr>\n",
       "    <tr>\n",
       "      <th>28388</th>\n",
       "      <td>Fish &amp; Chips</td>\n",
       "      <td>val d’oro</td>\n",
       "      <td>val d'oro</td>\n",
       "    </tr>\n",
       "    <tr>\n",
       "      <th>28399</th>\n",
       "      <td>Pizza</td>\n",
       "      <td>valentino’s bellissimo</td>\n",
       "      <td>valentino's bellissimo</td>\n",
       "    </tr>\n",
       "    <tr>\n",
       "      <th>28763</th>\n",
       "      <td>Indian</td>\n",
       "      <td>waheed’s buffet</td>\n",
       "      <td>waheed's buffet</td>\n",
       "    </tr>\n",
       "    <tr>\n",
       "      <th>28833</th>\n",
       "      <td>Sandwich / Coffee Shops / Bakery</td>\n",
       "      <td>wayne’s coffee - ilford</td>\n",
       "      <td>wayne's coffee - ilford</td>\n",
       "    </tr>\n",
       "    <tr>\n",
       "      <th>29286</th>\n",
       "      <td>Sandwich / Coffee Shops / Bakery</td>\n",
       "      <td>wräpport</td>\n",
       "      <td>wrapport</td>\n",
       "    </tr>\n",
       "    <tr>\n",
       "      <th>29341</th>\n",
       "      <td>Other</td>\n",
       "      <td>y’arbia y’ariba</td>\n",
       "      <td>y'arbia y'ariba</td>\n",
       "    </tr>\n",
       "    <tr>\n",
       "      <th>29497</th>\n",
       "      <td>Sandwich / Coffee Shops / Bakery</td>\n",
       "      <td>young vegan’s pie shop</td>\n",
       "      <td>young vegan's pie shop</td>\n",
       "    </tr>\n",
       "    <tr>\n",
       "      <th>29657</th>\n",
       "      <td>Chicken</td>\n",
       "      <td>yuwie’s good food diner</td>\n",
       "      <td>yuwie's good food diner</td>\n",
       "    </tr>\n",
       "    <tr>\n",
       "      <th>29661</th>\n",
       "      <td>Pizza</td>\n",
       "      <td>z’s diner.</td>\n",
       "      <td>z's diner.</td>\n",
       "    </tr>\n",
       "    <tr>\n",
       "      <th>29816</th>\n",
       "      <td>Sandwich / Coffee Shops / Bakery</td>\n",
       "      <td>zena’s cafe</td>\n",
       "      <td>zena's cafe</td>\n",
       "    </tr>\n",
       "    <tr>\n",
       "      <th>29817</th>\n",
       "      <td>Burgers</td>\n",
       "      <td>zena’s cafe</td>\n",
       "      <td>zena's cafe</td>\n",
       "    </tr>\n",
       "  </tbody>\n",
       "</table>\n",
       "<p>333 rows × 3 columns</p>\n",
       "</div>"
      ],
      "text/plain": [
       "                                  label  \\\n",
       "133                               Pizza   \n",
       "143                               Pizza   \n",
       "144                               Pizza   \n",
       "203                               Other   \n",
       "238                              Indian   \n",
       "256                        Fish & Chips   \n",
       "294                               Other   \n",
       "376                               Other   \n",
       "429                             Burgers   \n",
       "552    Sandwich / Coffee Shops / Bakery   \n",
       "631                               Pizza   \n",
       "688                              Indian   \n",
       "808                            Desserts   \n",
       "854                              Indian   \n",
       "941                               Pizza   \n",
       "1027   Sandwich / Coffee Shops / Bakery   \n",
       "1053                           Desserts   \n",
       "1055                              Pizza   \n",
       "1064                            Chicken   \n",
       "1147                              Pizza   \n",
       "1390                             Indian   \n",
       "1391   Sandwich / Coffee Shops / Bakery   \n",
       "1422                           Desserts   \n",
       "1423                           Desserts   \n",
       "1432                              Other   \n",
       "1587                            Burgers   \n",
       "1777                            Burgers   \n",
       "1861                       Fish & Chips   \n",
       "2337                            Burgers   \n",
       "2452                              Kebab   \n",
       "...                                 ...   \n",
       "24512  Sandwich / Coffee Shops / Bakery   \n",
       "24545  Sandwich / Coffee Shops / Bakery   \n",
       "24551  Sandwich / Coffee Shops / Bakery   \n",
       "24554  Sandwich / Coffee Shops / Bakery   \n",
       "24684                      Fish & Chips   \n",
       "25780                           Chicken   \n",
       "27542  Sandwich / Coffee Shops / Bakery   \n",
       "27576  Sandwich / Coffee Shops / Bakery   \n",
       "27625                      Fish & Chips   \n",
       "27658                             Pizza   \n",
       "27772  Sandwich / Coffee Shops / Bakery   \n",
       "27820  Sandwich / Coffee Shops / Bakery   \n",
       "27821                           Burgers   \n",
       "27896                           Burgers   \n",
       "27949                           Chicken   \n",
       "28281                          Desserts   \n",
       "28282                          Desserts   \n",
       "28283                          Desserts   \n",
       "28372                             Other   \n",
       "28388                      Fish & Chips   \n",
       "28399                             Pizza   \n",
       "28763                            Indian   \n",
       "28833  Sandwich / Coffee Shops / Bakery   \n",
       "29286  Sandwich / Coffee Shops / Bakery   \n",
       "29341                             Other   \n",
       "29497  Sandwich / Coffee Shops / Bakery   \n",
       "29657                           Chicken   \n",
       "29661                             Pizza   \n",
       "29816  Sandwich / Coffee Shops / Bakery   \n",
       "29817                           Burgers   \n",
       "\n",
       "                                                    text  \\\n",
       "133                                                 800°   \n",
       "143                                         900° degrees   \n",
       "144                                         900° degrees   \n",
       "203                                   aarzoo’s blackpool   \n",
       "238                                               abid’s   \n",
       "256                                 abu’s fish and chips   \n",
       "294                          adam’s ethiopian restaurant   \n",
       "376                       afromumii @ lovelygloworm café   \n",
       "429                                           aj’s grill   \n",
       "552                                           al’s place   \n",
       "631                                         alessandro’s   \n",
       "688                                        ali’s kitchen   \n",
       "808                              alpino steak ‘n’ shakes   \n",
       "854                                               aman’s   \n",
       "941                                        amigo´s pizza   \n",
       "1027                                             andie’s   \n",
       "1053                                       angel’s cakes   \n",
       "1055                                      angelo´s pizza   \n",
       "1064                            angie’s jamaican cuisine   \n",
       "1147   aphrodite’s greek mediterranean cuisine & pizz...   \n",
       "1390                                             atiya’s   \n",
       "1391                             atkinson’s sandwich bar   \n",
       "1422                                       auntie anne’s   \n",
       "1423                                       auntie anne’s   \n",
       "1432                               aunty jenny’s kitchen   \n",
       "1587                                         bag ó nails   \n",
       "1777                                   bangerz ‘n’ brewz   \n",
       "1861                          bardsley’s fish restaurant   \n",
       "2337                                      bernie’s diner   \n",
       "2452                                         bey’s diner   \n",
       "...                                                  ...   \n",
       "24512                              stop ‘n’ go snack bar   \n",
       "24545                             stuart’s sandwich shop   \n",
       "24551                                     stumpy’s shack   \n",
       "24554                                            subby’s   \n",
       "24684                 sunny and dee’s traditional chippy   \n",
       "25780                                    that’s it grill   \n",
       "27542                                             tiki’s   \n",
       "27576                                         tim’s cafe   \n",
       "27625                                tj’s cafe and diner   \n",
       "27658                                    tocco d’artista   \n",
       "27772                        top of the range irish café   \n",
       "27820                                   topp’s breakfast   \n",
       "27821                         topp’s hot & cold food bar   \n",
       "27896                        toro’s steakhouse liverpool   \n",
       "27949                                  tr’s spice island   \n",
       "28281                               unico gelato & caffé   \n",
       "28282                               unico gelato & caffé   \n",
       "28283                               unico gelato & caffè   \n",
       "28372                      usain bolt’s tracks & records   \n",
       "28388                                          val d’oro   \n",
       "28399                             valentino’s bellissimo   \n",
       "28763                                    waheed’s buffet   \n",
       "28833                            wayne’s coffee - ilford   \n",
       "29286                                           wräpport   \n",
       "29341                                    y’arbia y’ariba   \n",
       "29497                             young vegan’s pie shop   \n",
       "29657                            yuwie’s good food diner   \n",
       "29661                                         z’s diner.   \n",
       "29816                                        zena’s cafe   \n",
       "29817                                        zena’s cafe   \n",
       "\n",
       "                                              ascii_name  \n",
       "133                                               800deg  \n",
       "143                                       900deg degrees  \n",
       "144                                       900deg degrees  \n",
       "203                                   aarzoo's blackpool  \n",
       "238                                               abid's  \n",
       "256                                 abu's fish and chips  \n",
       "294                          adam's ethiopian restaurant  \n",
       "376                       afromumii @ lovelygloworm cafe  \n",
       "429                                           aj's grill  \n",
       "552                                           al's place  \n",
       "631                                         alessandro's  \n",
       "688                                        ali's kitchen  \n",
       "808                              alpino steak 'n' shakes  \n",
       "854                                               aman's  \n",
       "941                                        amigo's pizza  \n",
       "1027                                             andie's  \n",
       "1053                                       angel's cakes  \n",
       "1055                                      angelo's pizza  \n",
       "1064                            angie's jamaican cuisine  \n",
       "1147   aphrodite's greek mediterranean cuisine & pizz...  \n",
       "1390                                             atiya's  \n",
       "1391                             atkinson's sandwich bar  \n",
       "1422                                       auntie anne's  \n",
       "1423                                       auntie anne's  \n",
       "1432                               aunty jenny's kitchen  \n",
       "1587                                         bag o nails  \n",
       "1777                                   bangerz 'n' brewz  \n",
       "1861                          bardsley's fish restaurant  \n",
       "2337                                      bernie's diner  \n",
       "2452                                         bey's diner  \n",
       "...                                                  ...  \n",
       "24512                              stop 'n' go snack bar  \n",
       "24545                             stuart's sandwich shop  \n",
       "24551                                     stumpy's shack  \n",
       "24554                                            subby's  \n",
       "24684                 sunny and dee's traditional chippy  \n",
       "25780                                    that's it grill  \n",
       "27542                                             tiki's  \n",
       "27576                                         tim's cafe  \n",
       "27625                                tj's cafe and diner  \n",
       "27658                                    tocco d'artista  \n",
       "27772                        top of the range irish cafe  \n",
       "27820                                   topp's breakfast  \n",
       "27821                         topp's hot & cold food bar  \n",
       "27896                        toro's steakhouse liverpool  \n",
       "27949                                  tr's spice island  \n",
       "28281                               unico gelato & caffe  \n",
       "28282                               unico gelato & caffe  \n",
       "28283                               unico gelato & caffe  \n",
       "28372                      usain bolt's tracks & records  \n",
       "28388                                          val d'oro  \n",
       "28399                             valentino's bellissimo  \n",
       "28763                                    waheed's buffet  \n",
       "28833                            wayne's coffee - ilford  \n",
       "29286                                           wrapport  \n",
       "29341                                    y'arbia y'ariba  \n",
       "29497                             young vegan's pie shop  \n",
       "29657                            yuwie's good food diner  \n",
       "29661                                         z's diner.  \n",
       "29816                                        zena's cafe  \n",
       "29817                                        zena's cafe  \n",
       "\n",
       "[333 rows x 3 columns]"
      ]
     },
     "execution_count": 6,
     "metadata": {},
     "output_type": "execute_result"
    }
   ],
   "source": [
    "df['ascii_name'] = df.text.apply(lambda x: unidecode(str(x)))\n",
    "df[df.text != df.ascii_name]"
   ]
  },
  {
   "cell_type": "code",
   "execution_count": 7,
   "metadata": {},
   "outputs": [
    {
     "data": {
      "text/plain": [
       "[(' ', 78388),\n",
       " (\"'\", 56823),\n",
       " (',', 29912),\n",
       " ('\"', 6236),\n",
       " ('&', 2783),\n",
       " ('-', 1167),\n",
       " ('(', 305),\n",
       " (')', 305),\n",
       " ('2', 239),\n",
       " ('1', 222),\n",
       " ('.', 220),\n",
       " ('@', 205),\n",
       " ('4', 122),\n",
       " ('0', 114),\n",
       " ('3', 83),\n",
       " ('8', 74),\n",
       " ('9', 61),\n",
       " ('7', 54),\n",
       " ('6', 52),\n",
       " ('5', 52),\n",
       " ('`', 26),\n",
       " ('!', 25),\n",
       " ('/', 14),\n",
       " ('#', 7),\n",
       " ('+', 7),\n",
       " (':', 4),\n",
       " ('?', 4),\n",
       " ('*', 3),\n",
       " ('%', 2),\n",
       " ('[', 1),\n",
       " ('~', 1),\n",
       " ('\\\\', 1),\n",
       " (']', 1)]"
      ]
     },
     "execution_count": 7,
     "metadata": {},
     "output_type": "execute_result"
    }
   ],
   "source": [
    "foreign_chars = Counter(_ for _ in ''.join(str(list(df.ascii_name))) if _ not in string.ascii_letters)\n",
    "foreign_chars.most_common()"
   ]
  },
  {
   "cell_type": "code",
   "execution_count": 8,
   "metadata": {},
   "outputs": [
    {
     "data": {
      "text/html": [
       "<div>\n",
       "<style scoped>\n",
       "    .dataframe tbody tr th:only-of-type {\n",
       "        vertical-align: middle;\n",
       "    }\n",
       "\n",
       "    .dataframe tbody tr th {\n",
       "        vertical-align: top;\n",
       "    }\n",
       "\n",
       "    .dataframe thead th {\n",
       "        text-align: right;\n",
       "    }\n",
       "</style>\n",
       "<table border=\"1\" class=\"dataframe\">\n",
       "  <thead>\n",
       "    <tr style=\"text-align: right;\">\n",
       "      <th></th>\n",
       "      <th>label</th>\n",
       "      <th>text</th>\n",
       "      <th>ascii_name</th>\n",
       "      <th>ascii_name_fix</th>\n",
       "    </tr>\n",
       "  </thead>\n",
       "  <tbody>\n",
       "  </tbody>\n",
       "</table>\n",
       "</div>"
      ],
      "text/plain": [
       "Empty DataFrame\n",
       "Columns: [label, text, ascii_name, ascii_name_fix]\n",
       "Index: []"
      ]
     },
     "execution_count": 8,
     "metadata": {},
     "output_type": "execute_result"
    }
   ],
   "source": [
    "df['ascii_name_fix'] = df.ascii_name.str.replace('`',\"'\")\n",
    "df['ascii_name_fix'] = df.ascii_name_fix.str.replace('~',\" \")\n",
    "df['ascii_name_fix'] = df.ascii_name_fix.str.replace(']',\" \")\n",
    "df['ascii_name_fix'] = df.ascii_name_fix.str.replace('[',\" \")\n",
    "df['ascii_name_fix'] = df.ascii_name_fix.str.replace('\\\\',\" \")\n",
    "df['ascii_name_fix'] = df.ascii_name_fix.str.replace('%',\" \")\n",
    "df['ascii_name_fix'] = df.ascii_name_fix.str.replace('*',\" \")\n",
    "df['ascii_name_fix'] = df.ascii_name_fix.str.replace(':',\" \")\n",
    "df['ascii_name_fix'] = df.ascii_name_fix.str.replace('+',\" and \")\n",
    "df['ascii_name_fix'] = df.ascii_name_fix.str.replace('/',\" \")\n",
    "suss_chars = ['`',']','%']\n",
    "df[df.ascii_name_fix.str.contains('|'.join(suss_chars))]"
   ]
  },
  {
   "cell_type": "markdown",
   "metadata": {},
   "source": [
    "## Check for duplicates\n"
   ]
  },
  {
   "cell_type": "code",
   "execution_count": 9,
   "metadata": {},
   "outputs": [
    {
     "data": {
      "text/plain": [
       "ascii_name_fix\n",
       "tasty bites              6\n",
       "munchies                 6\n",
       "yummies                  5\n",
       "yum yum                  5\n",
       "the grill                5\n",
       "flavours                 5\n",
       "flames                   5\n",
       "real taste               4\n",
       "perfect fried chicken    4\n",
       "hot spot                 4\n",
       "get stuffed              4\n",
       "charcoal grill           4\n",
       "top taste                4\n",
       "mamma mia                4\n",
       "grill house              4\n",
       "ali baba                 4\n",
       "griller                  4\n",
       "marmaris                 4\n",
       "bbq hut                  4\n",
       "spicy grill              4\n",
       "fusion                   4\n",
       "star cafe                4\n",
       "sizzler                  4\n",
       "delicious                3\n",
       "spice land               3\n",
       "kebab express            3\n",
       "king grill               3\n",
       "eastern delight          3\n",
       "deli chez                3\n",
       "chicken hut              3\n",
       "kebab house              3\n",
       "the hot hut              3\n",
       "food stop                3\n",
       "mr kebab                 3\n",
       "eastern spice            3\n",
       "delight                  3\n",
       "spice of life            3\n",
       "king rooster             3\n",
       "athena                   3\n",
       "the kitchen              3\n",
       "pizza mania              3\n",
       "milano                   3\n",
       "usa chicken              3\n",
       "mega bite                3\n",
       "hungry hut               3\n",
       "afc                      3\n",
       "chip stop                3\n",
       "salt & pepper            3\n",
       "moonlight                3\n",
       "amigos                   3\n",
       "Name: label, dtype: int64"
      ]
     },
     "execution_count": 9,
     "metadata": {},
     "output_type": "execute_result"
    }
   ],
   "source": [
    "name_classes = df.\\\n",
    "  groupby('ascii_name_fix').\\\n",
    "  nunique().label.sort_values(ascending=False)\n",
    "name_classes.head(50)"
   ]
  },
  {
   "cell_type": "code",
   "execution_count": 10,
   "metadata": {},
   "outputs": [],
   "source": [
    "df_dupe = df[df.ascii_name_fix.isin(name_classes[name_classes > 1].index)]\n",
    "df_dupe = df_dupe[['label','ascii_name_fix']]\n",
    "piv = df_dupe.pivot_table(index = 'ascii_name_fix', values='label', columns = 'label', aggfunc=len, fill_value = 0)"
   ]
  },
  {
   "cell_type": "code",
   "execution_count": 11,
   "metadata": {},
   "outputs": [],
   "source": [
    "piv.to_csv('dupes.csv', sep=',')"
   ]
  },
  {
   "cell_type": "code",
   "execution_count": 12,
   "metadata": {},
   "outputs": [
    {
     "data": {
      "text/html": [
       "<div>\n",
       "<style scoped>\n",
       "    .dataframe tbody tr th:only-of-type {\n",
       "        vertical-align: middle;\n",
       "    }\n",
       "\n",
       "    .dataframe tbody tr th {\n",
       "        vertical-align: top;\n",
       "    }\n",
       "\n",
       "    .dataframe thead th {\n",
       "        text-align: right;\n",
       "    }\n",
       "</style>\n",
       "<table border=\"1\" class=\"dataframe\">\n",
       "  <thead>\n",
       "    <tr style=\"text-align: right;\">\n",
       "      <th></th>\n",
       "      <th>label</th>\n",
       "      <th>ascii_name_fix</th>\n",
       "    </tr>\n",
       "  </thead>\n",
       "  <tbody>\n",
       "    <tr>\n",
       "      <th>172</th>\n",
       "      <td>Indian</td>\n",
       "      <td>a touch of spice</td>\n",
       "    </tr>\n",
       "    <tr>\n",
       "      <th>173</th>\n",
       "      <td>Indian</td>\n",
       "      <td>a touch of spice</td>\n",
       "    </tr>\n",
       "    <tr>\n",
       "      <th>174</th>\n",
       "      <td>Pizza</td>\n",
       "      <td>a touch of spice</td>\n",
       "    </tr>\n",
       "    <tr>\n",
       "      <th>225</th>\n",
       "      <td>Indian</td>\n",
       "      <td>abduls</td>\n",
       "    </tr>\n",
       "    <tr>\n",
       "      <th>226</th>\n",
       "      <td>Kebab</td>\n",
       "      <td>abduls</td>\n",
       "    </tr>\n",
       "    <tr>\n",
       "      <th>284</th>\n",
       "      <td>Kebab</td>\n",
       "      <td>acropolis</td>\n",
       "    </tr>\n",
       "    <tr>\n",
       "      <th>285</th>\n",
       "      <td>Kebab</td>\n",
       "      <td>acropolis</td>\n",
       "    </tr>\n",
       "    <tr>\n",
       "      <th>286</th>\n",
       "      <td>Kebab</td>\n",
       "      <td>acropolis</td>\n",
       "    </tr>\n",
       "    <tr>\n",
       "      <th>287</th>\n",
       "      <td>Pizza</td>\n",
       "      <td>acropolis</td>\n",
       "    </tr>\n",
       "    <tr>\n",
       "      <th>295</th>\n",
       "      <td>Indian</td>\n",
       "      <td>adams</td>\n",
       "    </tr>\n",
       "    <tr>\n",
       "      <th>296</th>\n",
       "      <td>Pizza</td>\n",
       "      <td>adams</td>\n",
       "    </tr>\n",
       "    <tr>\n",
       "      <th>356</th>\n",
       "      <td>Pizza</td>\n",
       "      <td>afc</td>\n",
       "    </tr>\n",
       "    <tr>\n",
       "      <th>357</th>\n",
       "      <td>Chicken</td>\n",
       "      <td>afc</td>\n",
       "    </tr>\n",
       "    <tr>\n",
       "      <th>358</th>\n",
       "      <td>Kebab</td>\n",
       "      <td>afc</td>\n",
       "    </tr>\n",
       "    <tr>\n",
       "      <th>495</th>\n",
       "      <td>Indian</td>\n",
       "      <td>al badar</td>\n",
       "    </tr>\n",
       "    <tr>\n",
       "      <th>496</th>\n",
       "      <td>Pizza</td>\n",
       "      <td>al badar</td>\n",
       "    </tr>\n",
       "    <tr>\n",
       "      <th>505</th>\n",
       "      <td>Kebab</td>\n",
       "      <td>al capone</td>\n",
       "    </tr>\n",
       "    <tr>\n",
       "      <th>506</th>\n",
       "      <td>Pizza</td>\n",
       "      <td>al capone</td>\n",
       "    </tr>\n",
       "    <tr>\n",
       "      <th>521</th>\n",
       "      <td>Kebab</td>\n",
       "      <td>al kababgi mezze &amp; grill</td>\n",
       "    </tr>\n",
       "    <tr>\n",
       "      <th>522</th>\n",
       "      <td>Indian</td>\n",
       "      <td>al kababgi mezze &amp; grill</td>\n",
       "    </tr>\n",
       "    <tr>\n",
       "      <th>654</th>\n",
       "      <td>Chicken</td>\n",
       "      <td>ali baba</td>\n",
       "    </tr>\n",
       "    <tr>\n",
       "      <th>655</th>\n",
       "      <td>Indian</td>\n",
       "      <td>ali baba</td>\n",
       "    </tr>\n",
       "    <tr>\n",
       "      <th>656</th>\n",
       "      <td>Kebab</td>\n",
       "      <td>ali baba</td>\n",
       "    </tr>\n",
       "    <tr>\n",
       "      <th>657</th>\n",
       "      <td>Kebab</td>\n",
       "      <td>ali baba</td>\n",
       "    </tr>\n",
       "    <tr>\n",
       "      <th>658</th>\n",
       "      <td>Pizza</td>\n",
       "      <td>ali baba</td>\n",
       "    </tr>\n",
       "    <tr>\n",
       "      <th>659</th>\n",
       "      <td>Pizza</td>\n",
       "      <td>ali baba</td>\n",
       "    </tr>\n",
       "    <tr>\n",
       "      <th>660</th>\n",
       "      <td>Kebab</td>\n",
       "      <td>ali baba</td>\n",
       "    </tr>\n",
       "    <tr>\n",
       "      <th>670</th>\n",
       "      <td>Pizza</td>\n",
       "      <td>ali baba's</td>\n",
       "    </tr>\n",
       "    <tr>\n",
       "      <th>671</th>\n",
       "      <td>Kebab</td>\n",
       "      <td>ali baba's</td>\n",
       "    </tr>\n",
       "    <tr>\n",
       "      <th>672</th>\n",
       "      <td>Pizza</td>\n",
       "      <td>ali baba's</td>\n",
       "    </tr>\n",
       "    <tr>\n",
       "      <th>...</th>\n",
       "      <td>...</td>\n",
       "      <td>...</td>\n",
       "    </tr>\n",
       "    <tr>\n",
       "      <th>29555</th>\n",
       "      <td>Pizza</td>\n",
       "      <td>yummies</td>\n",
       "    </tr>\n",
       "    <tr>\n",
       "      <th>29556</th>\n",
       "      <td>Pizza</td>\n",
       "      <td>yummies</td>\n",
       "    </tr>\n",
       "    <tr>\n",
       "      <th>29557</th>\n",
       "      <td>Pizza</td>\n",
       "      <td>yummies</td>\n",
       "    </tr>\n",
       "    <tr>\n",
       "      <th>29558</th>\n",
       "      <td>Kebab</td>\n",
       "      <td>yummies</td>\n",
       "    </tr>\n",
       "    <tr>\n",
       "      <th>29559</th>\n",
       "      <td>Kebab</td>\n",
       "      <td>yummies</td>\n",
       "    </tr>\n",
       "    <tr>\n",
       "      <th>29560</th>\n",
       "      <td>Kebab</td>\n",
       "      <td>yummies</td>\n",
       "    </tr>\n",
       "    <tr>\n",
       "      <th>29561</th>\n",
       "      <td>Kebab</td>\n",
       "      <td>yummies</td>\n",
       "    </tr>\n",
       "    <tr>\n",
       "      <th>29562</th>\n",
       "      <td>Pizza</td>\n",
       "      <td>yummies</td>\n",
       "    </tr>\n",
       "    <tr>\n",
       "      <th>29563</th>\n",
       "      <td>Pizza</td>\n",
       "      <td>yummies</td>\n",
       "    </tr>\n",
       "    <tr>\n",
       "      <th>29690</th>\n",
       "      <td>Chinese</td>\n",
       "      <td>zaika</td>\n",
       "    </tr>\n",
       "    <tr>\n",
       "      <th>29691</th>\n",
       "      <td>Pizza</td>\n",
       "      <td>zaika</td>\n",
       "    </tr>\n",
       "    <tr>\n",
       "      <th>29709</th>\n",
       "      <td>Pizza</td>\n",
       "      <td>zaiqa</td>\n",
       "    </tr>\n",
       "    <tr>\n",
       "      <th>29710</th>\n",
       "      <td>Indian</td>\n",
       "      <td>zaiqa</td>\n",
       "    </tr>\n",
       "    <tr>\n",
       "      <th>29725</th>\n",
       "      <td>Kebab</td>\n",
       "      <td>zam zam</td>\n",
       "    </tr>\n",
       "    <tr>\n",
       "      <th>29726</th>\n",
       "      <td>Indian</td>\n",
       "      <td>zam zam</td>\n",
       "    </tr>\n",
       "    <tr>\n",
       "      <th>29766</th>\n",
       "      <td>Kebab</td>\n",
       "      <td>zatar</td>\n",
       "    </tr>\n",
       "    <tr>\n",
       "      <th>29767</th>\n",
       "      <td>Burgers</td>\n",
       "      <td>zatar</td>\n",
       "    </tr>\n",
       "    <tr>\n",
       "      <th>29776</th>\n",
       "      <td>Indian</td>\n",
       "      <td>zaytun restaurant</td>\n",
       "    </tr>\n",
       "    <tr>\n",
       "      <th>29777</th>\n",
       "      <td>Other</td>\n",
       "      <td>zaytun restaurant</td>\n",
       "    </tr>\n",
       "    <tr>\n",
       "      <th>29816</th>\n",
       "      <td>Sandwich / Coffee Shops / Bakery</td>\n",
       "      <td>zena's cafe</td>\n",
       "    </tr>\n",
       "    <tr>\n",
       "      <th>29817</th>\n",
       "      <td>Burgers</td>\n",
       "      <td>zena's cafe</td>\n",
       "    </tr>\n",
       "    <tr>\n",
       "      <th>29830</th>\n",
       "      <td>Sandwich / Coffee Shops / Bakery</td>\n",
       "      <td>zest salad bar</td>\n",
       "    </tr>\n",
       "    <tr>\n",
       "      <th>29831</th>\n",
       "      <td>Pizza</td>\n",
       "      <td>zest salad bar</td>\n",
       "    </tr>\n",
       "    <tr>\n",
       "      <th>29853</th>\n",
       "      <td>Chicken</td>\n",
       "      <td>zing</td>\n",
       "    </tr>\n",
       "    <tr>\n",
       "      <th>29854</th>\n",
       "      <td>Indian</td>\n",
       "      <td>zing</td>\n",
       "    </tr>\n",
       "    <tr>\n",
       "      <th>29886</th>\n",
       "      <td>Kebab</td>\n",
       "      <td>zorbas</td>\n",
       "    </tr>\n",
       "    <tr>\n",
       "      <th>29887</th>\n",
       "      <td>Kebab</td>\n",
       "      <td>zorbas</td>\n",
       "    </tr>\n",
       "    <tr>\n",
       "      <th>29888</th>\n",
       "      <td>Pizza</td>\n",
       "      <td>zorbas</td>\n",
       "    </tr>\n",
       "    <tr>\n",
       "      <th>29904</th>\n",
       "      <td>Kebab</td>\n",
       "      <td>zulus peri peri</td>\n",
       "    </tr>\n",
       "    <tr>\n",
       "      <th>29905</th>\n",
       "      <td>Chicken</td>\n",
       "      <td>zulus peri peri</td>\n",
       "    </tr>\n",
       "  </tbody>\n",
       "</table>\n",
       "<p>2861 rows × 2 columns</p>\n",
       "</div>"
      ],
      "text/plain": [
       "                                  label            ascii_name_fix\n",
       "172                              Indian          a touch of spice\n",
       "173                              Indian          a touch of spice\n",
       "174                               Pizza          a touch of spice\n",
       "225                              Indian                    abduls\n",
       "226                               Kebab                    abduls\n",
       "284                               Kebab                 acropolis\n",
       "285                               Kebab                 acropolis\n",
       "286                               Kebab                 acropolis\n",
       "287                               Pizza                 acropolis\n",
       "295                              Indian                     adams\n",
       "296                               Pizza                     adams\n",
       "356                               Pizza                       afc\n",
       "357                             Chicken                       afc\n",
       "358                               Kebab                       afc\n",
       "495                              Indian                  al badar\n",
       "496                               Pizza                  al badar\n",
       "505                               Kebab                 al capone\n",
       "506                               Pizza                 al capone\n",
       "521                               Kebab  al kababgi mezze & grill\n",
       "522                              Indian  al kababgi mezze & grill\n",
       "654                             Chicken                  ali baba\n",
       "655                              Indian                  ali baba\n",
       "656                               Kebab                  ali baba\n",
       "657                               Kebab                  ali baba\n",
       "658                               Pizza                  ali baba\n",
       "659                               Pizza                  ali baba\n",
       "660                               Kebab                  ali baba\n",
       "670                               Pizza                ali baba's\n",
       "671                               Kebab                ali baba's\n",
       "672                               Pizza                ali baba's\n",
       "...                                 ...                       ...\n",
       "29555                             Pizza                   yummies\n",
       "29556                             Pizza                   yummies\n",
       "29557                             Pizza                   yummies\n",
       "29558                             Kebab                   yummies\n",
       "29559                             Kebab                   yummies\n",
       "29560                             Kebab                   yummies\n",
       "29561                             Kebab                   yummies\n",
       "29562                             Pizza                   yummies\n",
       "29563                             Pizza                   yummies\n",
       "29690                           Chinese                     zaika\n",
       "29691                             Pizza                     zaika\n",
       "29709                             Pizza                     zaiqa\n",
       "29710                            Indian                     zaiqa\n",
       "29725                             Kebab                   zam zam\n",
       "29726                            Indian                   zam zam\n",
       "29766                             Kebab                     zatar\n",
       "29767                           Burgers                     zatar\n",
       "29776                            Indian         zaytun restaurant\n",
       "29777                             Other         zaytun restaurant\n",
       "29816  Sandwich / Coffee Shops / Bakery               zena's cafe\n",
       "29817                           Burgers               zena's cafe\n",
       "29830  Sandwich / Coffee Shops / Bakery            zest salad bar\n",
       "29831                             Pizza            zest salad bar\n",
       "29853                           Chicken                      zing\n",
       "29854                            Indian                      zing\n",
       "29886                             Kebab                    zorbas\n",
       "29887                             Kebab                    zorbas\n",
       "29888                             Pizza                    zorbas\n",
       "29904                             Kebab           zulus peri peri\n",
       "29905                           Chicken           zulus peri peri\n",
       "\n",
       "[2861 rows x 2 columns]"
      ]
     },
     "execution_count": 12,
     "metadata": {},
     "output_type": "execute_result"
    }
   ],
   "source": [
    "df_dupe"
   ]
  },
  {
   "cell_type": "markdown",
   "metadata": {},
   "source": [
    "just remove all the duplicated names"
   ]
  },
  {
   "cell_type": "code",
   "execution_count": 13,
   "metadata": {},
   "outputs": [],
   "source": [
    "df = df[~df.ascii_name_fix.isin(name_classes[name_classes > 1].index)]"
   ]
  },
  {
   "cell_type": "markdown",
   "metadata": {},
   "source": [
    "check for duplicate name label combinations"
   ]
  },
  {
   "cell_type": "code",
   "execution_count": 14,
   "metadata": {
    "scrolled": true
   },
   "outputs": [
    {
     "data": {
      "text/html": [
       "<div>\n",
       "<style scoped>\n",
       "    .dataframe tbody tr th:only-of-type {\n",
       "        vertical-align: middle;\n",
       "    }\n",
       "\n",
       "    .dataframe tbody tr th {\n",
       "        vertical-align: top;\n",
       "    }\n",
       "\n",
       "    .dataframe thead th {\n",
       "        text-align: right;\n",
       "    }\n",
       "</style>\n",
       "<table border=\"1\" class=\"dataframe\">\n",
       "  <thead>\n",
       "    <tr style=\"text-align: right;\">\n",
       "      <th></th>\n",
       "      <th></th>\n",
       "      <th>text</th>\n",
       "      <th>ascii_name</th>\n",
       "      <th>n</th>\n",
       "    </tr>\n",
       "    <tr>\n",
       "      <th>ascii_name_fix</th>\n",
       "      <th>label</th>\n",
       "      <th></th>\n",
       "      <th></th>\n",
       "      <th></th>\n",
       "    </tr>\n",
       "  </thead>\n",
       "  <tbody>\n",
       "    <tr>\n",
       "      <th>china garden</th>\n",
       "      <th>Chinese</th>\n",
       "      <td>35</td>\n",
       "      <td>35</td>\n",
       "      <td>35</td>\n",
       "    </tr>\n",
       "    <tr>\n",
       "      <th>tops pizza</th>\n",
       "      <th>Pizza</th>\n",
       "      <td>32</td>\n",
       "      <td>32</td>\n",
       "      <td>32</td>\n",
       "    </tr>\n",
       "    <tr>\n",
       "      <th>taste of india</th>\n",
       "      <th>Indian</th>\n",
       "      <td>31</td>\n",
       "      <td>31</td>\n",
       "      <td>31</td>\n",
       "    </tr>\n",
       "    <tr>\n",
       "      <th>bengal spice</th>\n",
       "      <th>Indian</th>\n",
       "      <td>26</td>\n",
       "      <td>26</td>\n",
       "      <td>26</td>\n",
       "    </tr>\n",
       "    <tr>\n",
       "      <th>golden dragon</th>\n",
       "      <th>Chinese</th>\n",
       "      <td>25</td>\n",
       "      <td>25</td>\n",
       "      <td>25</td>\n",
       "    </tr>\n",
       "    <tr>\n",
       "      <th>lucky star</th>\n",
       "      <th>Chinese</th>\n",
       "      <td>25</td>\n",
       "      <td>25</td>\n",
       "      <td>25</td>\n",
       "    </tr>\n",
       "    <tr>\n",
       "      <th>lucky house</th>\n",
       "      <th>Chinese</th>\n",
       "      <td>23</td>\n",
       "      <td>23</td>\n",
       "      <td>23</td>\n",
       "    </tr>\n",
       "    <tr>\n",
       "      <th>taste of china</th>\n",
       "      <th>Chinese</th>\n",
       "      <td>20</td>\n",
       "      <td>20</td>\n",
       "      <td>20</td>\n",
       "    </tr>\n",
       "    <tr>\n",
       "      <th>farmhouse pizza</th>\n",
       "      <th>Pizza</th>\n",
       "      <td>20</td>\n",
       "      <td>20</td>\n",
       "      <td>20</td>\n",
       "    </tr>\n",
       "    <tr>\n",
       "      <th>taj mahal</th>\n",
       "      <th>Indian</th>\n",
       "      <td>20</td>\n",
       "      <td>20</td>\n",
       "      <td>20</td>\n",
       "    </tr>\n",
       "    <tr>\n",
       "      <th>oriental chef</th>\n",
       "      <th>Chinese</th>\n",
       "      <td>20</td>\n",
       "      <td>20</td>\n",
       "      <td>20</td>\n",
       "    </tr>\n",
       "    <tr>\n",
       "      <th>happy house</th>\n",
       "      <th>Chinese</th>\n",
       "      <td>20</td>\n",
       "      <td>20</td>\n",
       "      <td>20</td>\n",
       "    </tr>\n",
       "    <tr>\n",
       "      <th>magic wok</th>\n",
       "      <th>Chinese</th>\n",
       "      <td>19</td>\n",
       "      <td>19</td>\n",
       "      <td>19</td>\n",
       "    </tr>\n",
       "    <tr>\n",
       "      <th>spice of india</th>\n",
       "      <th>Indian</th>\n",
       "      <td>19</td>\n",
       "      <td>19</td>\n",
       "      <td>19</td>\n",
       "    </tr>\n",
       "    <tr>\n",
       "      <th>little india</th>\n",
       "      <th>Indian</th>\n",
       "      <td>17</td>\n",
       "      <td>17</td>\n",
       "      <td>17</td>\n",
       "    </tr>\n",
       "    <tr>\n",
       "      <th>great wall</th>\n",
       "      <th>Chinese</th>\n",
       "      <td>17</td>\n",
       "      <td>17</td>\n",
       "      <td>17</td>\n",
       "    </tr>\n",
       "    <tr>\n",
       "      <th>peking chef</th>\n",
       "      <th>Chinese</th>\n",
       "      <td>16</td>\n",
       "      <td>16</td>\n",
       "      <td>16</td>\n",
       "    </tr>\n",
       "    <tr>\n",
       "      <th>china chef</th>\n",
       "      <th>Chinese</th>\n",
       "      <td>15</td>\n",
       "      <td>15</td>\n",
       "      <td>15</td>\n",
       "    </tr>\n",
       "    <tr>\n",
       "      <th>indian ocean</th>\n",
       "      <th>Indian</th>\n",
       "      <td>15</td>\n",
       "      <td>15</td>\n",
       "      <td>15</td>\n",
       "    </tr>\n",
       "    <tr>\n",
       "      <th>milano pizza</th>\n",
       "      <th>Pizza</th>\n",
       "      <td>15</td>\n",
       "      <td>15</td>\n",
       "      <td>15</td>\n",
       "    </tr>\n",
       "  </tbody>\n",
       "</table>\n",
       "</div>"
      ],
      "text/plain": [
       "                         text  ascii_name   n\n",
       "ascii_name_fix  label                        \n",
       "china garden    Chinese    35          35  35\n",
       "tops pizza      Pizza      32          32  32\n",
       "taste of india  Indian     31          31  31\n",
       "bengal spice    Indian     26          26  26\n",
       "golden dragon   Chinese    25          25  25\n",
       "lucky star      Chinese    25          25  25\n",
       "lucky house     Chinese    23          23  23\n",
       "taste of china  Chinese    20          20  20\n",
       "farmhouse pizza Pizza      20          20  20\n",
       "taj mahal       Indian     20          20  20\n",
       "oriental chef   Chinese    20          20  20\n",
       "happy house     Chinese    20          20  20\n",
       "magic wok       Chinese    19          19  19\n",
       "spice of india  Indian     19          19  19\n",
       "little india    Indian     17          17  17\n",
       "great wall      Chinese    17          17  17\n",
       "peking chef     Chinese    16          16  16\n",
       "china chef      Chinese    15          15  15\n",
       "indian ocean    Indian     15          15  15\n",
       "milano pizza    Pizza      15          15  15"
      ]
     },
     "execution_count": 14,
     "metadata": {},
     "output_type": "execute_result"
    }
   ],
   "source": [
    "counts = df.assign(n=1).groupby(['ascii_name_fix', 'label']).count().sort_values('n', ascending=False)\n",
    "counts.head(n=20)"
   ]
  },
  {
   "cell_type": "code",
   "execution_count": 15,
   "metadata": {},
   "outputs": [],
   "source": [
    "df = df.drop_duplicates(['ascii_name_fix', 'label'])"
   ]
  },
  {
   "cell_type": "markdown",
   "metadata": {},
   "source": [
    "\n",
    "### Distribution by Language\n",
    "\n",
    "The dataset is very unbalanced.\n"
   ]
  },
  {
   "cell_type": "code",
   "execution_count": 16,
   "metadata": {},
   "outputs": [
    {
     "data": {
      "text/plain": [
       "label\n",
       "Indian                              5631\n",
       "Pizza                               4551\n",
       "Chinese                             3154\n",
       "Kebab                               2262\n",
       "Fish & Chips                        1677\n",
       "Chicken                             1388\n",
       "Other                               1211\n",
       "Sandwich / Coffee Shops / Bakery    1159\n",
       "Desserts                            1080\n",
       "Burgers                             1069\n",
       "Name: ascii_name_fix, dtype: int64"
      ]
     },
     "execution_count": 16,
     "metadata": {},
     "output_type": "execute_result"
    }
   ],
   "source": [
    "df.groupby('label').ascii_name_fix.count().sort_values(ascending=False)"
   ]
  },
  {
   "cell_type": "markdown",
   "metadata": {},
   "source": [
    "\n",
    "## Create Validation and Training Sets\n",
    "\n",
    "We want our final model to work well on any language.\n",
    "\n",
    "But if we pick our validation set uniformly at random from the data we're likely to get many Indian and not many African, which isn't a good test of this.\n",
    "\n",
    "So instead we'll take our validation set from an equal number from each subclass.\n"
   ]
  },
  {
   "cell_type": "code",
   "execution_count": 17,
   "metadata": {},
   "outputs": [],
   "source": [
    "df = df.reset_index().drop('index', 1)"
   ]
  },
  {
   "cell_type": "code",
   "execution_count": 18,
   "metadata": {},
   "outputs": [
    {
     "data": {
      "text/plain": [
       "label\n",
       "Indian                              5631\n",
       "Pizza                               4551\n",
       "Chinese                             3154\n",
       "Kebab                               2262\n",
       "Fish & Chips                        1677\n",
       "Chicken                             1388\n",
       "Other                               1211\n",
       "Sandwich / Coffee Shops / Bakery    1159\n",
       "Desserts                            1080\n",
       "Burgers                             1069\n",
       "Name: ascii_name_fix, dtype: int64"
      ]
     },
     "execution_count": 18,
     "metadata": {},
     "output_type": "execute_result"
    }
   ],
   "source": [
    "counts = df.groupby('label').ascii_name_fix.count().sort_values(ascending=False)\n",
    "counts"
   ]
  },
  {
   "cell_type": "code",
   "execution_count": 19,
   "metadata": {},
   "outputs": [],
   "source": [
    "valid_size = 500 # We'll pick 30 at random from each subclass\n",
    "train_size = 5000 # For a balanced training set we'll pick 500 at random with replacement"
   ]
  },
  {
   "cell_type": "code",
   "execution_count": 20,
   "metadata": {},
   "outputs": [],
   "source": [
    "np.random.seed(6011)\n",
    "valid_idx = []\n",
    "for label in counts.keys():\n",
    "    # Random sample of size \"valid_size\" for each class\n",
    "    valid_idx += list(df[df.label == label].sample(valid_size).index)"
   ]
  },
  {
   "cell_type": "code",
   "execution_count": 21,
   "metadata": {},
   "outputs": [],
   "source": [
    "df['valid'] = False\n",
    "df.loc[valid_idx, 'valid'] = True"
   ]
  },
  {
   "cell_type": "code",
   "execution_count": 22,
   "metadata": {},
   "outputs": [],
   "source": [
    "np.random.seed(7012)\n",
    "balanced_idx = []\n",
    "for label in counts.keys():\n",
    "    # Random sample of size \"train_size\" for each class from the data outside of the validation set\n",
    "    balanced_idx += list(df[(df.label == label) & ~df.valid].sample(train_size, replace=True).index)"
   ]
  },
  {
   "cell_type": "code",
   "execution_count": 23,
   "metadata": {},
   "outputs": [
    {
     "data": {
      "text/html": [
       "<div>\n",
       "<style scoped>\n",
       "    .dataframe tbody tr th:only-of-type {\n",
       "        vertical-align: middle;\n",
       "    }\n",
       "\n",
       "    .dataframe tbody tr th {\n",
       "        vertical-align: top;\n",
       "    }\n",
       "\n",
       "    .dataframe thead th {\n",
       "        text-align: right;\n",
       "    }\n",
       "</style>\n",
       "<table border=\"1\" class=\"dataframe\">\n",
       "  <thead>\n",
       "    <tr style=\"text-align: right;\">\n",
       "      <th></th>\n",
       "      <th>label</th>\n",
       "      <th>text</th>\n",
       "      <th>ascii_name</th>\n",
       "      <th>ascii_name_fix</th>\n",
       "      <th>valid</th>\n",
       "    </tr>\n",
       "    <tr>\n",
       "      <th>label</th>\n",
       "      <th></th>\n",
       "      <th></th>\n",
       "      <th></th>\n",
       "      <th></th>\n",
       "      <th></th>\n",
       "    </tr>\n",
       "  </thead>\n",
       "  <tbody>\n",
       "    <tr>\n",
       "      <th>Indian</th>\n",
       "      <td>1</td>\n",
       "      <td>3198</td>\n",
       "      <td>3198</td>\n",
       "      <td>3198</td>\n",
       "      <td>1</td>\n",
       "    </tr>\n",
       "    <tr>\n",
       "      <th>Pizza</th>\n",
       "      <td>1</td>\n",
       "      <td>2879</td>\n",
       "      <td>2879</td>\n",
       "      <td>2879</td>\n",
       "      <td>1</td>\n",
       "    </tr>\n",
       "    <tr>\n",
       "      <th>Chinese</th>\n",
       "      <td>1</td>\n",
       "      <td>2256</td>\n",
       "      <td>2256</td>\n",
       "      <td>2256</td>\n",
       "      <td>1</td>\n",
       "    </tr>\n",
       "    <tr>\n",
       "      <th>Kebab</th>\n",
       "      <td>1</td>\n",
       "      <td>1662</td>\n",
       "      <td>1662</td>\n",
       "      <td>1662</td>\n",
       "      <td>1</td>\n",
       "    </tr>\n",
       "    <tr>\n",
       "      <th>Fish &amp; Chips</th>\n",
       "      <td>1</td>\n",
       "      <td>1161</td>\n",
       "      <td>1161</td>\n",
       "      <td>1161</td>\n",
       "      <td>1</td>\n",
       "    </tr>\n",
       "    <tr>\n",
       "      <th>Chicken</th>\n",
       "      <td>1</td>\n",
       "      <td>884</td>\n",
       "      <td>884</td>\n",
       "      <td>884</td>\n",
       "      <td>1</td>\n",
       "    </tr>\n",
       "    <tr>\n",
       "      <th>Other</th>\n",
       "      <td>1</td>\n",
       "      <td>711</td>\n",
       "      <td>711</td>\n",
       "      <td>711</td>\n",
       "      <td>1</td>\n",
       "    </tr>\n",
       "    <tr>\n",
       "      <th>Sandwich / Coffee Shops / Bakery</th>\n",
       "      <td>1</td>\n",
       "      <td>658</td>\n",
       "      <td>658</td>\n",
       "      <td>658</td>\n",
       "      <td>1</td>\n",
       "    </tr>\n",
       "    <tr>\n",
       "      <th>Desserts</th>\n",
       "      <td>1</td>\n",
       "      <td>580</td>\n",
       "      <td>580</td>\n",
       "      <td>580</td>\n",
       "      <td>1</td>\n",
       "    </tr>\n",
       "    <tr>\n",
       "      <th>Burgers</th>\n",
       "      <td>1</td>\n",
       "      <td>569</td>\n",
       "      <td>569</td>\n",
       "      <td>569</td>\n",
       "      <td>1</td>\n",
       "    </tr>\n",
       "  </tbody>\n",
       "</table>\n",
       "</div>"
      ],
      "text/plain": [
       "                                  label  text  ascii_name  ascii_name_fix  \\\n",
       "label                                                                       \n",
       "Indian                                1  3198        3198            3198   \n",
       "Pizza                                 1  2879        2879            2879   \n",
       "Chinese                               1  2256        2256            2256   \n",
       "Kebab                                 1  1662        1662            1662   \n",
       "Fish & Chips                          1  1161        1161            1161   \n",
       "Chicken                               1   884         884             884   \n",
       "Other                                 1   711         711             711   \n",
       "Sandwich / Coffee Shops / Bakery      1   658         658             658   \n",
       "Desserts                              1   580         580             580   \n",
       "Burgers                               1   569         569             569   \n",
       "\n",
       "                                  valid  \n",
       "label                                    \n",
       "Indian                                1  \n",
       "Pizza                                 1  \n",
       "Chinese                               1  \n",
       "Kebab                                 1  \n",
       "Fish & Chips                          1  \n",
       "Chicken                               1  \n",
       "Other                                 1  \n",
       "Sandwich / Coffee Shops / Bakery      1  \n",
       "Desserts                              1  \n",
       "Burgers                               1  "
      ]
     },
     "execution_count": 23,
     "metadata": {},
     "output_type": "execute_result"
    }
   ],
   "source": [
    "df.loc[balanced_idx].groupby('label').nunique().sort_values('ascii_name_fix', ascending=False)"
   ]
  },
  {
   "cell_type": "markdown",
   "metadata": {},
   "source": [
    "Let's record our balanced set in the dataframe: this will make it easy to reload at a later point."
   ]
  },
  {
   "cell_type": "code",
   "execution_count": 24,
   "metadata": {},
   "outputs": [],
   "source": [
    "df['bal'] = 0\n",
    "for k, v in Counter(balanced_idx).items():\n",
    "    df.loc[k, 'bal'] += v"
   ]
  },
  {
   "cell_type": "code",
   "execution_count": 25,
   "metadata": {},
   "outputs": [],
   "source": [
    "df.to_csv('after_21_11_2019_meeting_clean.csv', index=False)"
   ]
  },
  {
   "cell_type": "code",
   "execution_count": 28,
   "metadata": {},
   "outputs": [
    {
     "ename": "NameError",
     "evalue": "name 'train_idx' is not defined",
     "output_type": "error",
     "traceback": [
      "\u001b[0;31m---------------------------------------------------------------------------\u001b[0m",
      "\u001b[0;31mNameError\u001b[0m                                 Traceback (most recent call last)",
      "\u001b[0;32m<ipython-input-28-22cdf9e6c1dd>\u001b[0m in \u001b[0;36m<module>\u001b[0;34m\u001b[0m\n\u001b[0;32m----> 1\u001b[0;31m \u001b[0mlen\u001b[0m\u001b[0;34m(\u001b[0m\u001b[0mtrain_idx\u001b[0m\u001b[0;34m)\u001b[0m\u001b[0;34m\u001b[0m\u001b[0;34m\u001b[0m\u001b[0m\n\u001b[0m",
      "\u001b[0;31mNameError\u001b[0m: name 'train_idx' is not defined"
     ]
    }
   ],
   "source": [
    "len(train_idx)"
   ]
  },
  {
   "cell_type": "code",
   "execution_count": 29,
   "metadata": {},
   "outputs": [
    {
     "data": {
      "text/html": [
       "<div>\n",
       "<style scoped>\n",
       "    .dataframe tbody tr th:only-of-type {\n",
       "        vertical-align: middle;\n",
       "    }\n",
       "\n",
       "    .dataframe tbody tr th {\n",
       "        vertical-align: top;\n",
       "    }\n",
       "\n",
       "    .dataframe thead th {\n",
       "        text-align: right;\n",
       "    }\n",
       "</style>\n",
       "<table border=\"1\" class=\"dataframe\">\n",
       "  <thead>\n",
       "    <tr style=\"text-align: right;\">\n",
       "      <th></th>\n",
       "      <th>label</th>\n",
       "      <th>text</th>\n",
       "      <th>ascii_name</th>\n",
       "      <th>ascii_name_fix</th>\n",
       "      <th>valid</th>\n",
       "      <th>bal</th>\n",
       "    </tr>\n",
       "  </thead>\n",
       "  <tbody>\n",
       "    <tr>\n",
       "      <th>0</th>\n",
       "      <td>Burgers</td>\n",
       "      <td>247</td>\n",
       "      <td>247</td>\n",
       "      <td>247</td>\n",
       "      <td>True</td>\n",
       "      <td>0</td>\n",
       "    </tr>\n",
       "    <tr>\n",
       "      <th>1</th>\n",
       "      <td>Desserts</td>\n",
       "      <td>#desserts</td>\n",
       "      <td>#desserts</td>\n",
       "      <td>#desserts</td>\n",
       "      <td>True</td>\n",
       "      <td>0</td>\n",
       "    </tr>\n",
       "    <tr>\n",
       "      <th>2</th>\n",
       "      <td>Other</td>\n",
       "      <td>#falafil</td>\n",
       "      <td>#falafil</td>\n",
       "      <td>#falafil</td>\n",
       "      <td>False</td>\n",
       "      <td>12</td>\n",
       "    </tr>\n",
       "    <tr>\n",
       "      <th>3</th>\n",
       "      <td>Chicken</td>\n",
       "      <td>#fcuk</td>\n",
       "      <td>#fcuk</td>\n",
       "      <td>#fcuk</td>\n",
       "      <td>False</td>\n",
       "      <td>15</td>\n",
       "    </tr>\n",
       "    <tr>\n",
       "      <th>4</th>\n",
       "      <td>Pizza</td>\n",
       "      <td>#pizza</td>\n",
       "      <td>#pizza</td>\n",
       "      <td>#pizza</td>\n",
       "      <td>False</td>\n",
       "      <td>3</td>\n",
       "    </tr>\n",
       "    <tr>\n",
       "      <th>5</th>\n",
       "      <td>Indian</td>\n",
       "      <td>#sauce</td>\n",
       "      <td>#sauce</td>\n",
       "      <td>#sauce</td>\n",
       "      <td>False</td>\n",
       "      <td>0</td>\n",
       "    </tr>\n",
       "    <tr>\n",
       "      <th>6</th>\n",
       "      <td>Indian</td>\n",
       "      <td>#spice</td>\n",
       "      <td>#spice</td>\n",
       "      <td>#spice</td>\n",
       "      <td>False</td>\n",
       "      <td>3</td>\n",
       "    </tr>\n",
       "    <tr>\n",
       "      <th>7</th>\n",
       "      <td>Chinese</td>\n",
       "      <td>.cn chinese restaurant</td>\n",
       "      <td>.cn chinese restaurant</td>\n",
       "      <td>.cn chinese restaurant</td>\n",
       "      <td>False</td>\n",
       "      <td>5</td>\n",
       "    </tr>\n",
       "    <tr>\n",
       "      <th>8</th>\n",
       "      <td>Chinese</td>\n",
       "      <td>@ home</td>\n",
       "      <td>@ home</td>\n",
       "      <td>@ home</td>\n",
       "      <td>False</td>\n",
       "      <td>2</td>\n",
       "    </tr>\n",
       "    <tr>\n",
       "      <th>9</th>\n",
       "      <td>Chinese</td>\n",
       "      <td>@ thai</td>\n",
       "      <td>@ thai</td>\n",
       "      <td>@ thai</td>\n",
       "      <td>False</td>\n",
       "      <td>1</td>\n",
       "    </tr>\n",
       "    <tr>\n",
       "      <th>10</th>\n",
       "      <td>Indian</td>\n",
       "      <td>@indian.com</td>\n",
       "      <td>@indian.com</td>\n",
       "      <td>@indian.com</td>\n",
       "      <td>False</td>\n",
       "      <td>0</td>\n",
       "    </tr>\n",
       "    <tr>\n",
       "      <th>11</th>\n",
       "      <td>Pizza</td>\n",
       "      <td>@ivy cafe and coffee house</td>\n",
       "      <td>@ivy cafe and coffee house</td>\n",
       "      <td>@ivy cafe and coffee house</td>\n",
       "      <td>False</td>\n",
       "      <td>0</td>\n",
       "    </tr>\n",
       "    <tr>\n",
       "      <th>12</th>\n",
       "      <td>Pizza</td>\n",
       "      <td>@pizza</td>\n",
       "      <td>@pizza</td>\n",
       "      <td>@pizza</td>\n",
       "      <td>False</td>\n",
       "      <td>1</td>\n",
       "    </tr>\n",
       "    <tr>\n",
       "      <th>13</th>\n",
       "      <td>Pizza</td>\n",
       "      <td>00 bar</td>\n",
       "      <td>00 bar</td>\n",
       "      <td>00 bar</td>\n",
       "      <td>False</td>\n",
       "      <td>1</td>\n",
       "    </tr>\n",
       "    <tr>\n",
       "      <th>14</th>\n",
       "      <td>Pizza</td>\n",
       "      <td>007 pizzahouse</td>\n",
       "      <td>007 pizzahouse</td>\n",
       "      <td>007 pizzahouse</td>\n",
       "      <td>False</td>\n",
       "      <td>1</td>\n",
       "    </tr>\n",
       "    <tr>\n",
       "      <th>15</th>\n",
       "      <td>Burgers</td>\n",
       "      <td>00seven burger</td>\n",
       "      <td>00seven burger</td>\n",
       "      <td>00seven burger</td>\n",
       "      <td>False</td>\n",
       "      <td>11</td>\n",
       "    </tr>\n",
       "    <tr>\n",
       "      <th>16</th>\n",
       "      <td>Pizza</td>\n",
       "      <td>02 spice fast food</td>\n",
       "      <td>02 spice fast food</td>\n",
       "      <td>02 spice fast food</td>\n",
       "      <td>False</td>\n",
       "      <td>2</td>\n",
       "    </tr>\n",
       "    <tr>\n",
       "      <th>17</th>\n",
       "      <td>Other</td>\n",
       "      <td>036 rnb</td>\n",
       "      <td>036 rnb</td>\n",
       "      <td>036 rnb</td>\n",
       "      <td>False</td>\n",
       "      <td>7</td>\n",
       "    </tr>\n",
       "    <tr>\n",
       "      <th>18</th>\n",
       "      <td>Indian</td>\n",
       "      <td>10 to 10 in delhi</td>\n",
       "      <td>10 to 10 in delhi</td>\n",
       "      <td>10 to 10 in delhi</td>\n",
       "      <td>True</td>\n",
       "      <td>0</td>\n",
       "    </tr>\n",
       "    <tr>\n",
       "      <th>19</th>\n",
       "      <td>Burgers</td>\n",
       "      <td>100 degrees</td>\n",
       "      <td>100 degrees</td>\n",
       "      <td>100 degrees</td>\n",
       "      <td>False</td>\n",
       "      <td>14</td>\n",
       "    </tr>\n",
       "    <tr>\n",
       "      <th>20</th>\n",
       "      <td>Chinese</td>\n",
       "      <td>100 degrees east</td>\n",
       "      <td>100 degrees east</td>\n",
       "      <td>100 degrees east</td>\n",
       "      <td>False</td>\n",
       "      <td>2</td>\n",
       "    </tr>\n",
       "    <tr>\n",
       "      <th>21</th>\n",
       "      <td>Sandwich / Coffee Shops / Bakery</td>\n",
       "      <td>109 allerton</td>\n",
       "      <td>109 allerton</td>\n",
       "      <td>109 allerton</td>\n",
       "      <td>False</td>\n",
       "      <td>7</td>\n",
       "    </tr>\n",
       "    <tr>\n",
       "      <th>22</th>\n",
       "      <td>Indian</td>\n",
       "      <td>11 spices</td>\n",
       "      <td>11 spices</td>\n",
       "      <td>11 spices</td>\n",
       "      <td>False</td>\n",
       "      <td>1</td>\n",
       "    </tr>\n",
       "    <tr>\n",
       "      <th>23</th>\n",
       "      <td>Chinese</td>\n",
       "      <td>113 fish bar</td>\n",
       "      <td>113 fish bar</td>\n",
       "      <td>113 fish bar</td>\n",
       "      <td>False</td>\n",
       "      <td>1</td>\n",
       "    </tr>\n",
       "    <tr>\n",
       "      <th>24</th>\n",
       "      <td>Sandwich / Coffee Shops / Bakery</td>\n",
       "      <td>12 acres</td>\n",
       "      <td>12 acres</td>\n",
       "      <td>12 acres</td>\n",
       "      <td>False</td>\n",
       "      <td>6</td>\n",
       "    </tr>\n",
       "    <tr>\n",
       "      <th>25</th>\n",
       "      <td>Pizza</td>\n",
       "      <td>12 o'clock</td>\n",
       "      <td>12 o'clock</td>\n",
       "      <td>12 o'clock</td>\n",
       "      <td>False</td>\n",
       "      <td>0</td>\n",
       "    </tr>\n",
       "    <tr>\n",
       "      <th>26</th>\n",
       "      <td>Chinese</td>\n",
       "      <td>128 chinese</td>\n",
       "      <td>128 chinese</td>\n",
       "      <td>128 chinese</td>\n",
       "      <td>False</td>\n",
       "      <td>1</td>\n",
       "    </tr>\n",
       "    <tr>\n",
       "      <th>27</th>\n",
       "      <td>Desserts</td>\n",
       "      <td>13:02 dessert cafe</td>\n",
       "      <td>13:02 dessert cafe</td>\n",
       "      <td>13 02 dessert cafe</td>\n",
       "      <td>True</td>\n",
       "      <td>0</td>\n",
       "    </tr>\n",
       "    <tr>\n",
       "      <th>28</th>\n",
       "      <td>Chinese</td>\n",
       "      <td>1423 china kitchen</td>\n",
       "      <td>1423 china kitchen</td>\n",
       "      <td>1423 china kitchen</td>\n",
       "      <td>True</td>\n",
       "      <td>0</td>\n",
       "    </tr>\n",
       "    <tr>\n",
       "      <th>29</th>\n",
       "      <td>Indian</td>\n",
       "      <td>1498 the spice affair</td>\n",
       "      <td>1498 the spice affair</td>\n",
       "      <td>1498 the spice affair</td>\n",
       "      <td>False</td>\n",
       "      <td>0</td>\n",
       "    </tr>\n",
       "    <tr>\n",
       "      <th>...</th>\n",
       "      <td>...</td>\n",
       "      <td>...</td>\n",
       "      <td>...</td>\n",
       "      <td>...</td>\n",
       "      <td>...</td>\n",
       "      <td>...</td>\n",
       "    </tr>\n",
       "    <tr>\n",
       "      <th>23152</th>\n",
       "      <td>Pizza</td>\n",
       "      <td>zizza pizza</td>\n",
       "      <td>zizza pizza</td>\n",
       "      <td>zizza pizza</td>\n",
       "      <td>False</td>\n",
       "      <td>1</td>\n",
       "    </tr>\n",
       "    <tr>\n",
       "      <th>23153</th>\n",
       "      <td>Pizza</td>\n",
       "      <td>zoha's pizza</td>\n",
       "      <td>zoha's pizza</td>\n",
       "      <td>zoha's pizza</td>\n",
       "      <td>False</td>\n",
       "      <td>2</td>\n",
       "    </tr>\n",
       "    <tr>\n",
       "      <th>23154</th>\n",
       "      <td>Indian</td>\n",
       "      <td>zolsha lounge bar &amp; restaurant</td>\n",
       "      <td>zolsha lounge bar &amp; restaurant</td>\n",
       "      <td>zolsha lounge bar &amp; restaurant</td>\n",
       "      <td>False</td>\n",
       "      <td>0</td>\n",
       "    </tr>\n",
       "    <tr>\n",
       "      <th>23155</th>\n",
       "      <td>Kebab</td>\n",
       "      <td>zorba 1</td>\n",
       "      <td>zorba 1</td>\n",
       "      <td>zorba 1</td>\n",
       "      <td>False</td>\n",
       "      <td>3</td>\n",
       "    </tr>\n",
       "    <tr>\n",
       "      <th>23156</th>\n",
       "      <td>Kebab</td>\n",
       "      <td>zorba 4</td>\n",
       "      <td>zorba 4</td>\n",
       "      <td>zorba 4</td>\n",
       "      <td>False</td>\n",
       "      <td>4</td>\n",
       "    </tr>\n",
       "    <tr>\n",
       "      <th>23157</th>\n",
       "      <td>Kebab</td>\n",
       "      <td>zorba kebab shop</td>\n",
       "      <td>zorba kebab shop</td>\n",
       "      <td>zorba kebab shop</td>\n",
       "      <td>False</td>\n",
       "      <td>3</td>\n",
       "    </tr>\n",
       "    <tr>\n",
       "      <th>23158</th>\n",
       "      <td>Kebab</td>\n",
       "      <td>zorba pizza &amp; balti</td>\n",
       "      <td>zorba pizza &amp; balti</td>\n",
       "      <td>zorba pizza &amp; balti</td>\n",
       "      <td>False</td>\n",
       "      <td>3</td>\n",
       "    </tr>\n",
       "    <tr>\n",
       "      <th>23159</th>\n",
       "      <td>Kebab</td>\n",
       "      <td>zorba takeaway</td>\n",
       "      <td>zorba takeaway</td>\n",
       "      <td>zorba takeaway</td>\n",
       "      <td>False</td>\n",
       "      <td>2</td>\n",
       "    </tr>\n",
       "    <tr>\n",
       "      <th>23160</th>\n",
       "      <td>Kebab</td>\n",
       "      <td>zorba the greek</td>\n",
       "      <td>zorba the greek</td>\n",
       "      <td>zorba the greek</td>\n",
       "      <td>False</td>\n",
       "      <td>5</td>\n",
       "    </tr>\n",
       "    <tr>\n",
       "      <th>23161</th>\n",
       "      <td>Kebab</td>\n",
       "      <td>zorba's greek restaurant</td>\n",
       "      <td>zorba's greek restaurant</td>\n",
       "      <td>zorba's greek restaurant</td>\n",
       "      <td>False</td>\n",
       "      <td>1</td>\n",
       "    </tr>\n",
       "    <tr>\n",
       "      <th>23162</th>\n",
       "      <td>Pizza</td>\n",
       "      <td>zorba's grill &amp; pizza house</td>\n",
       "      <td>zorba's grill &amp; pizza house</td>\n",
       "      <td>zorba's grill &amp; pizza house</td>\n",
       "      <td>False</td>\n",
       "      <td>2</td>\n",
       "    </tr>\n",
       "    <tr>\n",
       "      <th>23163</th>\n",
       "      <td>Kebab</td>\n",
       "      <td>zorbas kebabs &amp; chicken house</td>\n",
       "      <td>zorbas kebabs &amp; chicken house</td>\n",
       "      <td>zorbas kebabs &amp; chicken house</td>\n",
       "      <td>False</td>\n",
       "      <td>1</td>\n",
       "    </tr>\n",
       "    <tr>\n",
       "      <th>23164</th>\n",
       "      <td>Other</td>\n",
       "      <td>zouk lounge</td>\n",
       "      <td>zouk lounge</td>\n",
       "      <td>zouk lounge</td>\n",
       "      <td>False</td>\n",
       "      <td>4</td>\n",
       "    </tr>\n",
       "    <tr>\n",
       "      <th>23165</th>\n",
       "      <td>Indian</td>\n",
       "      <td>zubarah</td>\n",
       "      <td>zubarah</td>\n",
       "      <td>zubarah</td>\n",
       "      <td>False</td>\n",
       "      <td>1</td>\n",
       "    </tr>\n",
       "    <tr>\n",
       "      <th>23166</th>\n",
       "      <td>Chinese</td>\n",
       "      <td>zubi galley</td>\n",
       "      <td>zubi galley</td>\n",
       "      <td>zubi galley</td>\n",
       "      <td>False</td>\n",
       "      <td>0</td>\n",
       "    </tr>\n",
       "    <tr>\n",
       "      <th>23167</th>\n",
       "      <td>Pizza</td>\n",
       "      <td>zucca cafe &amp; restaurant</td>\n",
       "      <td>zucca cafe &amp; restaurant</td>\n",
       "      <td>zucca cafe &amp; restaurant</td>\n",
       "      <td>False</td>\n",
       "      <td>2</td>\n",
       "    </tr>\n",
       "    <tr>\n",
       "      <th>23168</th>\n",
       "      <td>Desserts</td>\n",
       "      <td>zucchero desserts</td>\n",
       "      <td>zucchero desserts</td>\n",
       "      <td>zucchero desserts</td>\n",
       "      <td>False</td>\n",
       "      <td>3</td>\n",
       "    </tr>\n",
       "    <tr>\n",
       "      <th>23169</th>\n",
       "      <td>Pizza</td>\n",
       "      <td>zucchini pasta bar</td>\n",
       "      <td>zucchini pasta bar</td>\n",
       "      <td>zucchini pasta bar</td>\n",
       "      <td>True</td>\n",
       "      <td>0</td>\n",
       "    </tr>\n",
       "    <tr>\n",
       "      <th>23170</th>\n",
       "      <td>Indian</td>\n",
       "      <td>zucla</td>\n",
       "      <td>zucla</td>\n",
       "      <td>zucla</td>\n",
       "      <td>False</td>\n",
       "      <td>1</td>\n",
       "    </tr>\n",
       "    <tr>\n",
       "      <th>23171</th>\n",
       "      <td>Chinese</td>\n",
       "      <td>zucla @ boxpark</td>\n",
       "      <td>zucla @ boxpark</td>\n",
       "      <td>zucla @ boxpark</td>\n",
       "      <td>False</td>\n",
       "      <td>1</td>\n",
       "    </tr>\n",
       "    <tr>\n",
       "      <th>23172</th>\n",
       "      <td>Other</td>\n",
       "      <td>zufa</td>\n",
       "      <td>zufa</td>\n",
       "      <td>zufa</td>\n",
       "      <td>False</td>\n",
       "      <td>3</td>\n",
       "    </tr>\n",
       "    <tr>\n",
       "      <th>23173</th>\n",
       "      <td>Indian</td>\n",
       "      <td>zulaika indian cuisine</td>\n",
       "      <td>zulaika indian cuisine</td>\n",
       "      <td>zulaika indian cuisine</td>\n",
       "      <td>False</td>\n",
       "      <td>1</td>\n",
       "    </tr>\n",
       "    <tr>\n",
       "      <th>23174</th>\n",
       "      <td>Indian</td>\n",
       "      <td>zulfi's</td>\n",
       "      <td>zulfi's</td>\n",
       "      <td>zulfi's</td>\n",
       "      <td>False</td>\n",
       "      <td>0</td>\n",
       "    </tr>\n",
       "    <tr>\n",
       "      <th>23175</th>\n",
       "      <td>Indian</td>\n",
       "      <td>zumbura</td>\n",
       "      <td>zumbura</td>\n",
       "      <td>zumbura</td>\n",
       "      <td>False</td>\n",
       "      <td>0</td>\n",
       "    </tr>\n",
       "    <tr>\n",
       "      <th>23176</th>\n",
       "      <td>Chinese</td>\n",
       "      <td>zumu x dive</td>\n",
       "      <td>zumu x dive</td>\n",
       "      <td>zumu x dive</td>\n",
       "      <td>False</td>\n",
       "      <td>4</td>\n",
       "    </tr>\n",
       "    <tr>\n",
       "      <th>23177</th>\n",
       "      <td>Other</td>\n",
       "      <td>zuzimo restaurant</td>\n",
       "      <td>zuzimo restaurant</td>\n",
       "      <td>zuzimo restaurant</td>\n",
       "      <td>False</td>\n",
       "      <td>12</td>\n",
       "    </tr>\n",
       "    <tr>\n",
       "      <th>23178</th>\n",
       "      <td>Other</td>\n",
       "      <td>zuzu lebanese restaurant</td>\n",
       "      <td>zuzu lebanese restaurant</td>\n",
       "      <td>zuzu lebanese restaurant</td>\n",
       "      <td>False</td>\n",
       "      <td>3</td>\n",
       "    </tr>\n",
       "    <tr>\n",
       "      <th>23179</th>\n",
       "      <td>Chinese</td>\n",
       "      <td>zweton</td>\n",
       "      <td>zweton</td>\n",
       "      <td>zweton</td>\n",
       "      <td>False</td>\n",
       "      <td>0</td>\n",
       "    </tr>\n",
       "    <tr>\n",
       "      <th>23180</th>\n",
       "      <td>Kebab</td>\n",
       "      <td>zyara restaurant</td>\n",
       "      <td>zyara restaurant</td>\n",
       "      <td>zyara restaurant</td>\n",
       "      <td>False</td>\n",
       "      <td>3</td>\n",
       "    </tr>\n",
       "    <tr>\n",
       "      <th>23181</th>\n",
       "      <td>Pizza</td>\n",
       "      <td>zzetta soul fired pizza</td>\n",
       "      <td>zzetta soul fired pizza</td>\n",
       "      <td>zzetta soul fired pizza</td>\n",
       "      <td>False</td>\n",
       "      <td>3</td>\n",
       "    </tr>\n",
       "  </tbody>\n",
       "</table>\n",
       "<p>23182 rows × 6 columns</p>\n",
       "</div>"
      ],
      "text/plain": [
       "                                  label                            text  \\\n",
       "0                               Burgers                             247   \n",
       "1                              Desserts                       #desserts   \n",
       "2                                 Other                        #falafil   \n",
       "3                               Chicken                           #fcuk   \n",
       "4                                 Pizza                          #pizza   \n",
       "5                                Indian                          #sauce   \n",
       "6                                Indian                          #spice   \n",
       "7                               Chinese          .cn chinese restaurant   \n",
       "8                               Chinese                          @ home   \n",
       "9                               Chinese                          @ thai   \n",
       "10                               Indian                     @indian.com   \n",
       "11                                Pizza      @ivy cafe and coffee house   \n",
       "12                                Pizza                          @pizza   \n",
       "13                                Pizza                          00 bar   \n",
       "14                                Pizza                  007 pizzahouse   \n",
       "15                              Burgers                  00seven burger   \n",
       "16                                Pizza              02 spice fast food   \n",
       "17                                Other                         036 rnb   \n",
       "18                               Indian               10 to 10 in delhi   \n",
       "19                              Burgers                     100 degrees   \n",
       "20                              Chinese                100 degrees east   \n",
       "21     Sandwich / Coffee Shops / Bakery                    109 allerton   \n",
       "22                               Indian                       11 spices   \n",
       "23                              Chinese                    113 fish bar   \n",
       "24     Sandwich / Coffee Shops / Bakery                        12 acres   \n",
       "25                                Pizza                      12 o'clock   \n",
       "26                              Chinese                     128 chinese   \n",
       "27                             Desserts              13:02 dessert cafe   \n",
       "28                              Chinese              1423 china kitchen   \n",
       "29                               Indian           1498 the spice affair   \n",
       "...                                 ...                             ...   \n",
       "23152                             Pizza                     zizza pizza   \n",
       "23153                             Pizza                    zoha's pizza   \n",
       "23154                            Indian  zolsha lounge bar & restaurant   \n",
       "23155                             Kebab                         zorba 1   \n",
       "23156                             Kebab                         zorba 4   \n",
       "23157                             Kebab                zorba kebab shop   \n",
       "23158                             Kebab             zorba pizza & balti   \n",
       "23159                             Kebab                  zorba takeaway   \n",
       "23160                             Kebab                 zorba the greek   \n",
       "23161                             Kebab        zorba's greek restaurant   \n",
       "23162                             Pizza     zorba's grill & pizza house   \n",
       "23163                             Kebab   zorbas kebabs & chicken house   \n",
       "23164                             Other                     zouk lounge   \n",
       "23165                            Indian                         zubarah   \n",
       "23166                           Chinese                     zubi galley   \n",
       "23167                             Pizza         zucca cafe & restaurant   \n",
       "23168                          Desserts               zucchero desserts   \n",
       "23169                             Pizza              zucchini pasta bar   \n",
       "23170                            Indian                           zucla   \n",
       "23171                           Chinese                 zucla @ boxpark   \n",
       "23172                             Other                            zufa   \n",
       "23173                            Indian          zulaika indian cuisine   \n",
       "23174                            Indian                         zulfi's   \n",
       "23175                            Indian                         zumbura   \n",
       "23176                           Chinese                     zumu x dive   \n",
       "23177                             Other               zuzimo restaurant   \n",
       "23178                             Other        zuzu lebanese restaurant   \n",
       "23179                           Chinese                          zweton   \n",
       "23180                             Kebab                zyara restaurant   \n",
       "23181                             Pizza         zzetta soul fired pizza   \n",
       "\n",
       "                           ascii_name                  ascii_name_fix  valid  \\\n",
       "0                                 247                             247   True   \n",
       "1                           #desserts                       #desserts   True   \n",
       "2                            #falafil                        #falafil  False   \n",
       "3                               #fcuk                           #fcuk  False   \n",
       "4                              #pizza                          #pizza  False   \n",
       "5                              #sauce                          #sauce  False   \n",
       "6                              #spice                          #spice  False   \n",
       "7              .cn chinese restaurant          .cn chinese restaurant  False   \n",
       "8                              @ home                          @ home  False   \n",
       "9                              @ thai                          @ thai  False   \n",
       "10                        @indian.com                     @indian.com  False   \n",
       "11         @ivy cafe and coffee house      @ivy cafe and coffee house  False   \n",
       "12                             @pizza                          @pizza  False   \n",
       "13                             00 bar                          00 bar  False   \n",
       "14                     007 pizzahouse                  007 pizzahouse  False   \n",
       "15                     00seven burger                  00seven burger  False   \n",
       "16                 02 spice fast food              02 spice fast food  False   \n",
       "17                            036 rnb                         036 rnb  False   \n",
       "18                  10 to 10 in delhi               10 to 10 in delhi   True   \n",
       "19                        100 degrees                     100 degrees  False   \n",
       "20                   100 degrees east                100 degrees east  False   \n",
       "21                       109 allerton                    109 allerton  False   \n",
       "22                          11 spices                       11 spices  False   \n",
       "23                       113 fish bar                    113 fish bar  False   \n",
       "24                           12 acres                        12 acres  False   \n",
       "25                         12 o'clock                      12 o'clock  False   \n",
       "26                        128 chinese                     128 chinese  False   \n",
       "27                 13:02 dessert cafe              13 02 dessert cafe   True   \n",
       "28                 1423 china kitchen              1423 china kitchen   True   \n",
       "29              1498 the spice affair           1498 the spice affair  False   \n",
       "...                               ...                             ...    ...   \n",
       "23152                     zizza pizza                     zizza pizza  False   \n",
       "23153                    zoha's pizza                    zoha's pizza  False   \n",
       "23154  zolsha lounge bar & restaurant  zolsha lounge bar & restaurant  False   \n",
       "23155                         zorba 1                         zorba 1  False   \n",
       "23156                         zorba 4                         zorba 4  False   \n",
       "23157                zorba kebab shop                zorba kebab shop  False   \n",
       "23158             zorba pizza & balti             zorba pizza & balti  False   \n",
       "23159                  zorba takeaway                  zorba takeaway  False   \n",
       "23160                 zorba the greek                 zorba the greek  False   \n",
       "23161        zorba's greek restaurant        zorba's greek restaurant  False   \n",
       "23162     zorba's grill & pizza house     zorba's grill & pizza house  False   \n",
       "23163   zorbas kebabs & chicken house   zorbas kebabs & chicken house  False   \n",
       "23164                     zouk lounge                     zouk lounge  False   \n",
       "23165                         zubarah                         zubarah  False   \n",
       "23166                     zubi galley                     zubi galley  False   \n",
       "23167         zucca cafe & restaurant         zucca cafe & restaurant  False   \n",
       "23168               zucchero desserts               zucchero desserts  False   \n",
       "23169              zucchini pasta bar              zucchini pasta bar   True   \n",
       "23170                           zucla                           zucla  False   \n",
       "23171                 zucla @ boxpark                 zucla @ boxpark  False   \n",
       "23172                            zufa                            zufa  False   \n",
       "23173          zulaika indian cuisine          zulaika indian cuisine  False   \n",
       "23174                         zulfi's                         zulfi's  False   \n",
       "23175                         zumbura                         zumbura  False   \n",
       "23176                     zumu x dive                     zumu x dive  False   \n",
       "23177               zuzimo restaurant               zuzimo restaurant  False   \n",
       "23178        zuzu lebanese restaurant        zuzu lebanese restaurant  False   \n",
       "23179                          zweton                          zweton  False   \n",
       "23180                zyara restaurant                zyara restaurant  False   \n",
       "23181         zzetta soul fired pizza         zzetta soul fired pizza  False   \n",
       "\n",
       "       bal  \n",
       "0        0  \n",
       "1        0  \n",
       "2       12  \n",
       "3       15  \n",
       "4        3  \n",
       "5        0  \n",
       "6        3  \n",
       "7        5  \n",
       "8        2  \n",
       "9        1  \n",
       "10       0  \n",
       "11       0  \n",
       "12       1  \n",
       "13       1  \n",
       "14       1  \n",
       "15      11  \n",
       "16       2  \n",
       "17       7  \n",
       "18       0  \n",
       "19      14  \n",
       "20       2  \n",
       "21       7  \n",
       "22       1  \n",
       "23       1  \n",
       "24       6  \n",
       "25       0  \n",
       "26       1  \n",
       "27       0  \n",
       "28       0  \n",
       "29       0  \n",
       "...    ...  \n",
       "23152    1  \n",
       "23153    2  \n",
       "23154    0  \n",
       "23155    3  \n",
       "23156    4  \n",
       "23157    3  \n",
       "23158    3  \n",
       "23159    2  \n",
       "23160    5  \n",
       "23161    1  \n",
       "23162    2  \n",
       "23163    1  \n",
       "23164    4  \n",
       "23165    1  \n",
       "23166    0  \n",
       "23167    2  \n",
       "23168    3  \n",
       "23169    0  \n",
       "23170    1  \n",
       "23171    1  \n",
       "23172    3  \n",
       "23173    1  \n",
       "23174    0  \n",
       "23175    0  \n",
       "23176    4  \n",
       "23177   12  \n",
       "23178    3  \n",
       "23179    0  \n",
       "23180    3  \n",
       "23181    3  \n",
       "\n",
       "[23182 rows x 6 columns]"
      ]
     },
     "execution_count": 29,
     "metadata": {},
     "output_type": "execute_result"
    }
   ],
   "source": [
    "df"
   ]
  },
  {
   "cell_type": "markdown",
   "metadata": {},
   "source": [
    "## Build a Fastai Data Loader\n",
    "\n",
    "Load in the dataframe and extract indexes for training, validation and balanced trainings."
   ]
  },
  {
   "cell_type": "code",
   "execution_count": 3,
   "metadata": {},
   "outputs": [],
   "source": [
    "df = pd.read_csv('after_21_11_2019_meeting_clean.csv')\n",
    "\n",
    "valid_idx = df[df.valid].index\n",
    "train_idx = df[~df.valid].index\n",
    "\n",
    "bal_idx = []\n",
    "for k, v in zip(df.index, df.bal):\n",
    "    bal_idx += [k]*v\n",
    "\n"
   ]
  },
  {
   "cell_type": "code",
   "execution_count": 4,
   "metadata": {},
   "outputs": [],
   "source": [
    "class LetterTokenizer(BaseTokenizer):\n",
    "    \"Character level tokenizer function.\"\n",
    "    def __init__(self, lang): pass\n",
    "    def tokenizer(self, t:str) -> List[str]:\n",
    "        out = []\n",
    "        i = 0\n",
    "        while i < len(t):\n",
    "            if t[i:].startswith(BOS):\n",
    "                out.append(BOS)\n",
    "                i += len(BOS)\n",
    "            else:\n",
    "                out.append(t[i])\n",
    "                i += 1\n",
    "        return out\n",
    "            \n",
    "    def add_special_cases(self, toks:Collection[str]): pass"
   ]
  },
  {
   "cell_type": "code",
   "execution_count": 5,
   "metadata": {},
   "outputs": [],
   "source": [
    "itos = [UNK, BOS] + list(string.ascii_lowercase + \" -'@&)(.\" +\"0123456789\")"
   ]
  },
  {
   "cell_type": "code",
   "execution_count": 6,
   "metadata": {},
   "outputs": [
    {
     "data": {
      "text/plain": [
       "['xxunk',\n",
       " 'xxbos',\n",
       " 'a',\n",
       " 'b',\n",
       " 'c',\n",
       " 'd',\n",
       " 'e',\n",
       " 'f',\n",
       " 'g',\n",
       " 'h',\n",
       " 'i',\n",
       " 'j',\n",
       " 'k',\n",
       " 'l',\n",
       " 'm',\n",
       " 'n',\n",
       " 'o',\n",
       " 'p',\n",
       " 'q',\n",
       " 'r',\n",
       " 's',\n",
       " 't',\n",
       " 'u',\n",
       " 'v',\n",
       " 'w',\n",
       " 'x',\n",
       " 'y',\n",
       " 'z',\n",
       " ' ',\n",
       " '-',\n",
       " \"'\",\n",
       " '@',\n",
       " '&',\n",
       " ')',\n",
       " '(',\n",
       " '.',\n",
       " '0',\n",
       " '1',\n",
       " '2',\n",
       " '3',\n",
       " '4',\n",
       " '5',\n",
       " '6',\n",
       " '7',\n",
       " '8',\n",
       " '9']"
      ]
     },
     "execution_count": 6,
     "metadata": {},
     "output_type": "execute_result"
    }
   ],
   "source": [
    "itos"
   ]
  },
  {
   "cell_type": "code",
   "execution_count": 7,
   "metadata": {},
   "outputs": [],
   "source": [
    "vocab=Vocab(itos)\n",
    "tokenizer=Tokenizer(LetterTokenizer, pre_rules=[], post_rules=[])"
   ]
  },
  {
   "cell_type": "code",
   "execution_count": 8,
   "metadata": {},
   "outputs": [],
   "source": [
    "train_df = df.iloc[train_idx, [0,3]]\n",
    "bal_df = df.iloc[bal_idx, [0,3]]\n",
    "valid_df = df.iloc[valid_idx, [0,3]]"
   ]
  },
  {
   "cell_type": "markdown",
   "metadata": {},
   "source": [
    "## Language model\n",
    "\n",
    "Language model with Just Eat data only"
   ]
  },
  {
   "cell_type": "code",
   "execution_count": 3,
   "metadata": {},
   "outputs": [],
   "source": [
    "df = pd.read_csv('after_21_11_2019_meeting_clean.csv')\n",
    "\n"
   ]
  },
  {
   "cell_type": "code",
   "execution_count": 11,
   "metadata": {},
   "outputs": [],
   "source": [
    "msk = np.random.rand(len(df)) < 0.8\n",
    "train_df = df[msk]\n",
    "valid_df = df[~msk]"
   ]
  },
  {
   "cell_type": "code",
   "execution_count": 12,
   "metadata": {},
   "outputs": [],
   "source": [
    "data = TextLMDataBunch.from_df(path='.', train_df=train_df, valid_df=valid_df,\n",
    "                         tokenizer=tokenizer, vocab=vocab, text_cols=1, mark_fields=False, bs=32)"
   ]
  },
  {
   "cell_type": "code",
   "execution_count": 13,
   "metadata": {},
   "outputs": [],
   "source": [
    "learn = language_model_learner(data, AWD_LSTM, drop_mult=0.8)"
   ]
  },
  {
   "cell_type": "code",
   "execution_count": 14,
   "metadata": {
    "scrolled": true
   },
   "outputs": [
    {
     "data": {
      "text/html": [],
      "text/plain": [
       "<IPython.core.display.HTML object>"
      ]
     },
     "metadata": {},
     "output_type": "display_data"
    },
    {
     "name": "stdout",
     "output_type": "stream",
     "text": [
      "LR Finder is complete, type {learner_name}.recorder.plot() to see the graph.\n"
     ]
    }
   ],
   "source": [
    "learn.lr_find()"
   ]
  },
  {
   "cell_type": "code",
   "execution_count": 15,
   "metadata": {},
   "outputs": [
    {
     "data": {
      "image/png": "[encoded data removed]",
      "text/plain": [
       "<Figure size 432x288 with 1 Axes>"
      ]
     },
     "metadata": {
      "needs_background": "light"
     },
     "output_type": "display_data"
    }
   ],
   "source": [
    "learn.recorder.plot()"
   ]
  },
  {
   "cell_type": "code",
   "execution_count": 16,
   "metadata": {},
   "outputs": [],
   "source": [
    "learn.freeze()"
   ]
  },
  {
   "cell_type": "code",
   "execution_count": 17,
   "metadata": {},
   "outputs": [
    {
     "data": {
      "text/html": [
       "Total time: 00:45 <p><table style='width:375px; margin-bottom:10px'>\n",
       "  <tr>\n",
       "    <th>epoch</th>\n",
       "    <th>train_loss</th>\n",
       "    <th>valid_loss</th>\n",
       "    <th>accuracy</th>\n",
       "    <th>time</th>\n",
       "  </tr>\n",
       "  <tr>\n",
       "    <th>0</th>\n",
       "    <th>2.890455</th>\n",
       "    <th>2.168491</th>\n",
       "    <th>0.369185</th>\n",
       "    <th>00:09</th>\n",
       "  </tr>\n",
       "  <tr>\n",
       "    <th>1</th>\n",
       "    <th>2.369176</th>\n",
       "    <th>2.021870</th>\n",
       "    <th>0.411298</th>\n",
       "    <th>00:09</th>\n",
       "  </tr>\n",
       "  <tr>\n",
       "    <th>2</th>\n",
       "    <th>2.248944</th>\n",
       "    <th>1.959043</th>\n",
       "    <th>0.431158</th>\n",
       "    <th>00:09</th>\n",
       "  </tr>\n",
       "  <tr>\n",
       "    <th>3</th>\n",
       "    <th>2.199414</th>\n",
       "    <th>1.925152</th>\n",
       "    <th>0.434753</th>\n",
       "    <th>00:09</th>\n",
       "  </tr>\n",
       "  <tr>\n",
       "    <th>4</th>\n",
       "    <th>2.174970</th>\n",
       "    <th>1.912333</th>\n",
       "    <th>0.437397</th>\n",
       "    <th>00:09</th>\n",
       "  </tr>\n",
       "</table>\n"
      ],
      "text/plain": [
       "<IPython.core.display.HTML object>"
      ]
     },
     "metadata": {},
     "output_type": "display_data"
    }
   ],
   "source": [
    "learn.fit_one_cycle(5, 5e-2, moms=(0.8,0.7))"
   ]
  },
  {
   "cell_type": "code",
   "execution_count": 18,
   "metadata": {},
   "outputs": [],
   "source": [
    "learn.freeze_to(-2)"
   ]
  },
  {
   "cell_type": "code",
   "execution_count": 19,
   "metadata": {
    "scrolled": true
   },
   "outputs": [
    {
     "data": {
      "text/html": [
       "Total time: 00:47 <p><table style='width:375px; margin-bottom:10px'>\n",
       "  <tr>\n",
       "    <th>epoch</th>\n",
       "    <th>train_loss</th>\n",
       "    <th>valid_loss</th>\n",
       "    <th>accuracy</th>\n",
       "    <th>time</th>\n",
       "  </tr>\n",
       "  <tr>\n",
       "    <th>0</th>\n",
       "    <th>2.047723</th>\n",
       "    <th>1.806144</th>\n",
       "    <th>0.462821</th>\n",
       "    <th>00:09</th>\n",
       "  </tr>\n",
       "  <tr>\n",
       "    <th>1</th>\n",
       "    <th>1.809185</th>\n",
       "    <th>1.634789</th>\n",
       "    <th>0.513370</th>\n",
       "    <th>00:09</th>\n",
       "  </tr>\n",
       "  <tr>\n",
       "    <th>2</th>\n",
       "    <th>1.675305</th>\n",
       "    <th>1.539642</th>\n",
       "    <th>0.540018</th>\n",
       "    <th>00:09</th>\n",
       "  </tr>\n",
       "  <tr>\n",
       "    <th>3</th>\n",
       "    <th>1.588666</th>\n",
       "    <th>1.496195</th>\n",
       "    <th>0.552495</th>\n",
       "    <th>00:09</th>\n",
       "  </tr>\n",
       "  <tr>\n",
       "    <th>4</th>\n",
       "    <th>1.568004</th>\n",
       "    <th>1.487006</th>\n",
       "    <th>0.556136</th>\n",
       "    <th>00:09</th>\n",
       "  </tr>\n",
       "</table>\n"
      ],
      "text/plain": [
       "<IPython.core.display.HTML object>"
      ]
     },
     "metadata": {},
     "output_type": "display_data"
    }
   ],
   "source": [
    "learn.fit_one_cycle(5, slice(1e-2/(2.6**4),1e-2), moms=(0.8,0.7))"
   ]
  },
  {
   "cell_type": "code",
   "execution_count": 20,
   "metadata": {},
   "outputs": [
    {
     "data": {
      "text/html": [
       "Total time: 00:53 <p><table style='width:375px; margin-bottom:10px'>\n",
       "  <tr>\n",
       "    <th>epoch</th>\n",
       "    <th>train_loss</th>\n",
       "    <th>valid_loss</th>\n",
       "    <th>accuracy</th>\n",
       "    <th>time</th>\n",
       "  </tr>\n",
       "  <tr>\n",
       "    <th>0</th>\n",
       "    <th>1.546048</th>\n",
       "    <th>1.476728</th>\n",
       "    <th>0.558288</th>\n",
       "    <th>00:10</th>\n",
       "  </tr>\n",
       "  <tr>\n",
       "    <th>1</th>\n",
       "    <th>1.511859</th>\n",
       "    <th>1.438787</th>\n",
       "    <th>0.568555</th>\n",
       "    <th>00:10</th>\n",
       "  </tr>\n",
       "  <tr>\n",
       "    <th>2</th>\n",
       "    <th>1.473267</th>\n",
       "    <th>1.405039</th>\n",
       "    <th>0.578961</th>\n",
       "    <th>00:10</th>\n",
       "  </tr>\n",
       "  <tr>\n",
       "    <th>3</th>\n",
       "    <th>1.438637</th>\n",
       "    <th>1.389424</th>\n",
       "    <th>0.584409</th>\n",
       "    <th>00:10</th>\n",
       "  </tr>\n",
       "  <tr>\n",
       "    <th>4</th>\n",
       "    <th>1.429905</th>\n",
       "    <th>1.387331</th>\n",
       "    <th>0.584535</th>\n",
       "    <th>00:10</th>\n",
       "  </tr>\n",
       "</table>\n"
      ],
      "text/plain": [
       "<IPython.core.display.HTML object>"
      ]
     },
     "metadata": {},
     "output_type": "display_data"
    }
   ],
   "source": [
    "learn.freeze_to(-3)\n",
    "learn.fit_one_cycle(5, slice(5e-3 / (2.6 ** 4), 5e-3), moms=(0.8, 0.7))"
   ]
  },
  {
   "cell_type": "code",
   "execution_count": 24,
   "metadata": {},
   "outputs": [
    {
     "data": {
      "text/html": [
       "Total time: 00:58 <p><table style='width:375px; margin-bottom:10px'>\n",
       "  <tr>\n",
       "    <th>epoch</th>\n",
       "    <th>train_loss</th>\n",
       "    <th>valid_loss</th>\n",
       "    <th>accuracy</th>\n",
       "    <th>time</th>\n",
       "  </tr>\n",
       "  <tr>\n",
       "    <th>0</th>\n",
       "    <th>1.418661</th>\n",
       "    <th>1.384366</th>\n",
       "    <th>0.585382</th>\n",
       "    <th>00:11</th>\n",
       "  </tr>\n",
       "  <tr>\n",
       "    <th>1</th>\n",
       "    <th>1.418794</th>\n",
       "    <th>1.383822</th>\n",
       "    <th>0.585588</th>\n",
       "    <th>00:11</th>\n",
       "  </tr>\n",
       "  <tr>\n",
       "    <th>2</th>\n",
       "    <th>1.415137</th>\n",
       "    <th>1.383198</th>\n",
       "    <th>0.585474</th>\n",
       "    <th>00:11</th>\n",
       "  </tr>\n",
       "  <tr>\n",
       "    <th>3</th>\n",
       "    <th>1.422960</th>\n",
       "    <th>1.382739</th>\n",
       "    <th>0.585703</th>\n",
       "    <th>00:11</th>\n",
       "  </tr>\n",
       "  <tr>\n",
       "    <th>4</th>\n",
       "    <th>1.407834</th>\n",
       "    <th>1.382715</th>\n",
       "    <th>0.585874</th>\n",
       "    <th>00:11</th>\n",
       "  </tr>\n",
       "</table>\n"
      ],
      "text/plain": [
       "<IPython.core.display.HTML object>"
      ]
     },
     "metadata": {},
     "output_type": "display_data"
    }
   ],
   "source": [
    "learn.unfreeze()\n",
    "learn.fit_one_cycle(5, slice(1e-4 / (2.6 ** 4), 1e-4), moms=(0.8, 0.7))"
   ]
  },
  {
   "cell_type": "code",
   "execution_count": 25,
   "metadata": {},
   "outputs": [],
   "source": [
    "TEXT = \"bob\"\n",
    "N_WORDS = 100\n",
    "N_SENTENCES = 50"
   ]
  },
  {
   "cell_type": "code",
   "execution_count": 26,
   "metadata": {},
   "outputs": [
    {
     "name": "stdout",
     "output_type": "stream",
     "text": [
      "bob b e r n   s p i c e xxbos   h a r r y   o f   i s l a n d xxbos   m i l l e d o s   f i s h   &   c h i p s   &   p i z z a xxbos   r a j i f a s t   f r y   r e s t a u r a n t xxbos   i n d i a   i n d i a n   t a\n",
      "bob b y   h o u s e xxbos   g r a n d e r h a m   c o f f e e   -   p i z z a xxbos   c h o r e a t o n s   p i z z a   &   k e b a b   h o u s e xxbos   p o r t s l e y   d e s s e r t s xxbos   p i z z a   g o g o   s\n",
      "bob b e r   &   s p i c e xxbos   o c e a n   d h z e e n xxbos   t e d   c h i f f e e   c o o k e d   p a l a c e xxbos   p i z z a   t o k e   d e s s e r t s xxbos   p a p r i   p e r i   p e r i   c h i c k e n xxbos  \n",
      "bob b u r y   c h i p p y xxbos   b a b u l l   c a f e xxbos   s h a p p y   c a f e   &   p i z z a xxbos   r a j   a n d   t a n d o o r i xxbos   c h e e   b r o e d xxbos   s t o p e r y   s t r e e t   c a f e xxbos   h a\n",
      "bob l e y   f i s h   &   c h i p s xxbos   h a h a n   g r i l l xxbos   v i c t o n   t h a i xxbos   m a n   m y   i n d i a n   t a k e a w a y xxbos   k i n g   g r i l l xxbos   z a i   a n d   d e l i g h t xxbos   k a t\n",
      "bob b y   h u t xxbos   k a s p a ' s   -   b a n g l a d e s s e r t s xxbos   t h e   s p i c e   d a n c h xxbos   p i z z a   t a s t y   f o o d xxbos   n a k o ' s   p i z z a   b a r xxbos   l i m a   g o u r m e t  \n",
      "bob b e y   k e b a b   &   p i z z a xxbos   m a r d a   c u r r y xxbos   l i t t l e   l i t t l e xxbos   s p i c e   g r e e k   &   s p i c e xxbos   l o v e   g a l l e y xxbos   s h a k e s xxbos   t h e   r a j   v i l\n",
      "bob b e q u e   n   e x p r e s s xxbos   e a t o   p i z z a   p a t xxbos   t h e   m a r a h i   t e a   r o a d   l a n e xxbos   c h i n a   i t a l i a n   t a k e a w a y xxbos   m a n g   d r a g o n   c a f e xxbos\n",
      "bob b l y s   d e l i xxbos   c a f e   m e r i   r e s t a u r a n t xxbos   t h e   b a l t i   h o u s e xxbos   c h i c k e n   l a   g r i l l xxbos   t h e   c r o s e   c h i c k e n   ( s t r e e t   c h i n e s\n",
      "bob b y   t a n d o o r i xxbos   f u s i o n   r e s t a u r a n t xxbos   t i m e   g r e a t   b a l t i xxbos   s k e n   c h a c k a r s   &   g r i l l xxbos   k i t c h e n   b i r g xxbos   m a n n a   o f   c o v e\n",
      "bob b a y   b a r xxbos   d e l i g h t s   s p i c e xxbos   m a h a l   t a n d o o r i xxbos   t h e   f i s h   b a r xxbos   d i n a g s   p i z z a   &   c h i c k e n xxbos   m i n g   f a s t   f o o d xxbos   r a j a  \n",
      "bob b y ' s   c a s t l e xxbos   a n g l e   i n d i a n   t a k e a w a y xxbos   c a s p a ' s   -   s u r p e r xxbos   c o b b e l l   h o u s e xxbos   p a p a d o   p i z z a xxbos   s t a r   m a s a l a xxbos   b i g  \n",
      "bob y ' s   p i z z a   &   g r i l l xxbos   c o f f e e   p i z z a xxbos   p i z z a   p a l a c e xxbos   b l u e   s o   p i z z a   &   k e b a b xxbos   p a n z a   p i z z a xxbos   m a m i   c u r r y   h o u s e xxbos\n",
      "bob a i   m a n g a l xxbos   b r u n c k   b a l t i   h u t xxbos   c h i c k e n   b u r g e r s xxbos   a l   t a n d o o r i xxbos   k i n g   c h i p s xxbos   t h e   i m e r i a n o ' s xxbos   b e l l y ' s   i n d i a\n",
      "bob q   d i n e r xxbos   g o l d e n   f a s t   f o o d xxbos   n a w a n i   r e s t a u r a n t xxbos   b a n g a l   b a r xxbos   j a m m o n   r e s t a u r a n t   &   b a r xxbos   s i l v e r i e   k i t c h e n xxbos\n",
      "bob l e y ' s   c a f e xxbos   s u s h i   f i s h   &   c h i p s xxbos   n a n a   i n d i a n   r o a d   r e s t a u r a n t xxbos   t h e   f i s h   &   c h i p s   &   p i z z a     &   k e b a b   h o u s e\n",
      "bob l e y   d i n e r xxbos   c h i c k e n   a v e r i c a n   i n d i a n   t a k e a w a y xxbos   t h e   c r e a m   h a r v e xxbos   f a v o r i t e   c h i c k e n xxbos   f o o d   f r e e k xxbos   j a i p p y   k\n",
      "bob b e y   f a s t   f o o d xxbos   t h e   b i s t r o xxbos   l e e t o n   b o x xxbos   s o u t h e n d y ' s   f i s h   &   c h i p s   -     s h a k e s xxbos   d r a g o n   g a r d e n xxbos   i n n xxbos   p a p a  \n",
      "bob b y   l o u n g e xxbos   p i z z a   p a n o ' s   ( s o o n   t a n d o o r i xxbos   n e w   b r o t t i n g t o n   l t d ) xxbos   r a j   o v e n   c h i n e s e   t a k e a w a y xxbos   r a j   j a z e   k i\n",
      "bob l e y   c h i c k e n xxbos   t h e   d e l i g h t   c h i c k e n   a n d   g r i l l xxbos   s u p e r   b i t e s xxbos   p r e p s   c u i s i n e xxbos   r o y a l   d e s s e r t   s h o p xxbos   c o l l a n   t\n",
      "bob b i n g   b a r   &   f r i e d   c h i c k e n xxbos   d o n i n g   t a n d o o r i xxbos   c h i n e s e   t a k e a w a y xxbos   w a l t i n g t o n   f i s h   &   c h i p s xxbos   m a n s o r i   e x p r e s\n",
      "bob b e y   s h a k e s xxbos   p e p p e r s   f i s h   &   c h i p s   &   k e b a b   h o u s e xxbos   m e g a l   c r e a m   h o u s e xxbos   j o e ' s   p i z z a   p e r i   p e r i o xxbos   g o u r m e t   c\n",
      "bob a y   k e b a b   h o u s e xxbos   c h i n a   b e s t   f r y xxbos   s p i c e   b l u e   i n d i a n   p i z z a xxbos   c h i c k e n   b u s h   b a r xxbos   s u s h i   b o x   i n d i a n   t a k e a w a y\n",
      "bob b l e y   v e g a n   p i z z a xxbos   m i l l a n d   t a s t e xxbos   t h e   w o k   k o n g   w a l l xxbos   t h e   h i l l   c h i c k e n   &   b a l t i   t a k e a w a y xxbos   c u c i n a   h o u s e xxbos\n",
      "bob b e r   l u n c h xxbos   a m a r xxbos   f r e s h   s t e a k   u n i xxbos   m a s a l a   l a n d xxbos   s h a k e   w o o d   d e s s e r t s xxbos   t w e   b o m b u r y   k e b a b   h o u s e xxbos   r a j   f i s\n",
      "bob e r   b i t e s   s h a w a r m a xxbos   p i z z a   i n d i a n   t a k e a w a y xxbos   l i t a l i a   b i g   b a r xxbos   l a   m e l l i c i o u s   k e b a b   h o u s e xxbos   m a s m a   m a n g a l   r\n",
      "bob b y   c o n n e r xxbos   p i z z a   g o g o   h o t   &   p i z z a xxbos   f a v o r i t a   c h i n e s e xxbos   z a s t a   t a n d o o r i xxbos   t h e   b i g   d e l i g h t xxbos   h a p p y   g r i l l   &  \n",
      "bob b o o s h xxbos   n e w   t h e   c h i n a   l e b a n e s e   t a k e a w a y xxbos   b u r g e r   a n d   c h i c k e n   &   p i z z a   t a k e a w a y xxbos   s c o o p h i n e   h o u s e xxbos   p i z z a  \n",
      "bob b e y   j u m c l e xxbos   a n g s xxbos   s h a h a i   k e b a b s xxbos   m o r t h a m   t o w n   c o a s t   f o o d   t a k e a w a y xxbos   j a m a n y xxbos   k u n g   l o u n g e xxbos   e c t o n e s s   c u r\n",
      "bob b e r o m o xxbos   t h e   p a l a c e   c h i n e s e   t a k e a w a y xxbos   r o y a l   c r e a m s   -   i c o   f i s h   &   c h i p s xxbos   g o l d e n   s u s h i xxbos   a l i ' s   c a f e xxbos   s e a k\n",
      "bob b l e   m a l l e y   c a f e xxbos   t h e   h o n e   d e l i g h t   c u r r y   h o u s e xxbos   m o u t h   a l   s i z z l i n g s xxbos   s a f f l o n   t h e   d e l i g h t xxbos   p o p p a d o s   p i z\n",
      "bob   n i g h t xxbos   r u t h e r   p i z z a   &   k e b a b   h o u s e xxbos   t h e   m a l a   f a s t   f o o d xxbos   t h e   d e l i c i o u s   t a k e a w a y xxbos   p a d l e r s   t a k e a w a y xxbos   s t\n",
      "bob l e y   h o u s e xxbos   f r i e d   c h i c k e n   &   p i z z a   h o u s e xxbos   p a s t a   b u r g e r   a n d   c h i p s xxbos   s t a g i r a l   s u s h i   i n d i a n   r e s t a u r a n t   &   t\n",
      "bob l e y   b e n g a l   t a k e a w a y xxbos   m a r i c a n   h o u s e xxbos   t h e   h a r r y   m e a l   w e l l   l o u n g e xxbos   a s h a   b u d d l e d xxbos   n e w   c a f e   a n d   i n d i a n   r e\n",
      "bob ' s   p i z z a   &   k e b a b s xxbos   y o u r   k e b a b   h o u s e xxbos   c h i l l i   t a n d o o r i xxbos   t h e   t h e   b o n g ' s   ( b i t e s ) xxbos   c h i l l i   k e b a b xxbos   m i t h   n e w\n",
      "bob b q xxbos   p i z z a   w a l l o w xxbos   c o c o l i a   i n d i a n   r e s t a u r a n t xxbos   b i g   m a c h a n   t a k e a w a y xxbos   c h i c k e n   o l d   t h e   f a r i f i e l d xxbos   h a t r m o n\n",
      "bob b y   h o u s e xxbos   k a s p a ' s   -   s u s h i   p i z z a xxbos   t h e   j u n c t i o n xxbos   t h a i   c a f e xxbos   a n o r e   n e w   c h a r c o a l   g r i l l   &   p i z z a   &   k e b a b   h\n",
      "bob y   g r i l l xxbos   m a s t a l   c h i n e s e   t a k e a w a y xxbos   m a s a l a   m o o s xxbos   t h e   b u r g e r   c h i c k e n   &   p i z z a xxbos   t h e   g r i l l   b a r xxbos   t h e   m i s t   k\n",
      "bob a   b a g e l s   &   g r i l l xxbos   s o u t h a n   b b q   h o u s e xxbos   w r a p s t a r   p i z z a   &   k e b a b xxbos   t h e   f o o d   o xxbos   c a t c r e a m xxbos   c a n t o n   p i z z a   &   k e\n",
      "bob l e y   c h i p p y xxbos   t h e   c h i n e s e   d e s s e r t   &   p i z z a xxbos   t h e   s p i c e   f i s h   b a r xxbos   t s a l i m a s   p i z z a   &   k e b a b   h o u s e xxbos   a l   t a s t y  \n",
      "bob b e y   f e s t   &   c h i p s   &   g r i l l xxbos   p i z z a   g o g o   b o x xxbos   a t h e o n   c h i n e s e   r e s t a u r a n t xxbos   c r e a m   e x p r e s s xxbos   c h a p p y   s u p e r xxbos   m i\n",
      "bob s   p i z z a   &   k e b a b   &   p i z z a xxbos   g o l d e n   c h i n e s e   t a k e a w a y xxbos   m a m a r a   r e s t a u r a n t   &   t a k e a w a y xxbos   b a r a n i s   b u r g e r   &   p i z\n",
      "bob b e y   j u n c t i o n xxbos   r o y a l   f i s h   b a r xxbos   k e b a b   &   p i z z a   &   k e b a b   h o u s e xxbos   s c a r l o w   k i t c h e n xxbos   s u l l a n i   c a f e xxbos   z i l a   p e r i  \n",
      "bob b q   t a n d o o r i xxbos   c u r r y   r a m s d e n   -   t h e   p i z z a   &   k e b a b   h o u s e xxbos   c l u b   ' n '   g r i l l xxbos   m a n g a l a   e x p r e s s xxbos   g r i l l   b a p e r i d\n",
      "bob b u r g e r   &   f r y xxbos   c h i n a   p i z z a   n o o d l e   b a r xxbos   d e l i c i o u s   t a k e a w a y xxbos   s h a h a l a n d   c u r r y   h o u s e xxbos   b r o w l l y   c h i c k e n   &   r\n",
      "bob b q   v i l l a g e   a n d   d o w n xxbos   g a n d s   d e l i g h t   t a n d o o r i xxbos   c a r i b b e a n   f o o d   h o u s e xxbos   t h e   p r u n c h   b a l t i   p i z z a xxbos   a s i a   a n d  \n",
      "bob b y   l t d xxbos   t h e   b a y   a n d   o n e   r e s t a u r a n t xxbos   s h a k e w   w o k   b a l t i   h o u s e   &   b u r g e r s xxbos   p c o n t i d g e   p i z z a   l a n e s e   r e s t a u r\n",
      "bob b e r   c h i n e s e   t a k e a w a y xxbos   v i l l a g e   c h i n e s e   t a k e a w a y xxbos   t h e   c h i n e s e   t a k e a w a y xxbos   m a m a ' s   b a l t i   h o u s e xxbos   s p i c e   t a k e\n",
      "bob a   s p i c e xxbos   p i z z a   d e l i g h t xxbos   a l d o n   c h i c k e n   &   r i b s   &   p i z z a xxbos   p e r i   p e r i   p e r i   p e r i xxbos   r o y a l   c h i n a xxbos   b e a b   l o u n g e xxbos\n",
      "bob b y   t a n d o o r i xxbos   m a r a j o k   r e s t a u r a n t xxbos   t h e   b a b b l e s h a m xxbos   s p i c e   c l u b xxbos   c h i l l i   i n d i a n   r e s t a u r a n t xxbos   a l a   g r e e n   l e b\n"
     ]
    }
   ],
   "source": [
    "print(\"\\n\".join(learn.predict(TEXT, N_WORDS, temperature=0.75) for _ in range(N_SENTENCES)))"
   ]
  },
  {
   "cell_type": "code",
   "execution_count": 27,
   "metadata": {},
   "outputs": [],
   "source": [
    "learn.save_encoder('just_eat_enc_bs32')"
   ]
  },
  {
   "cell_type": "code",
   "execution_count": null,
   "metadata": {},
   "outputs": [],
   "source": []
  },
  {
   "cell_type": "code",
   "execution_count": null,
   "metadata": {},
   "outputs": [],
   "source": []
  },
  {
   "cell_type": "code",
   "execution_count": null,
   "metadata": {},
   "outputs": [],
   "source": []
  },
  {
   "cell_type": "markdown",
   "metadata": {},
   "source": [
    "## Classifier with Just Eat data"
   ]
  },
  {
   "cell_type": "code",
   "execution_count": 9,
   "metadata": {},
   "outputs": [],
   "source": [
    "data = TextClasDataBunch.from_df(path='.', train_df=bal_df, valid_df=valid_df,\n",
    "                         tokenizer=tokenizer, vocab=vocab,\n",
    "                         mark_fields=False, bs=256)"
   ]
  },
  {
   "cell_type": "code",
   "execution_count": 10,
   "metadata": {},
   "outputs": [
    {
     "data": {
      "text/html": [
       "<table border=\"1\" class=\"dataframe\">\n",
       "  <thead>\n",
       "    <tr style=\"text-align: right;\">\n",
       "      <th>text</th>\n",
       "      <th>target</th>\n",
       "    </tr>\n",
       "  </thead>\n",
       "  <tbody>\n",
       "    <tr>\n",
       "      <td>x t r e m b u r g e r   -   s c h u m o   l t d   a t   t h e   d u k e   o f   w e l l i n g t o n</td>\n",
       "      <td>Burgers</td>\n",
       "    </tr>\n",
       "    <tr>\n",
       "      <td>x t r e m b u r g e r   -   s c h u m o   l t d   a t   t h e   d u k e   o f   w e l l i n g t o n</td>\n",
       "      <td>Burgers</td>\n",
       "    </tr>\n",
       "    <tr>\n",
       "      <td>d i a g o ' s   d e l i   h o t   s a n d w i c h ' s   a n d   g o u r m e t   b u r g e r s   n w</td>\n",
       "      <td>Burgers</td>\n",
       "    </tr>\n",
       "    <tr>\n",
       "      <td>a l l   n a t i o n s   m i n i m a r k e t   u k   m a m a   z a n z i b a r   s h e f f i e l d</td>\n",
       "      <td>Other</td>\n",
       "    </tr>\n",
       "    <tr>\n",
       "      <td>m r   c h i p p y   p i z z a     k e b a b   &amp;   t r a d i t i o n a l   f i s h   &amp;   c h i p s</td>\n",
       "      <td>Fish &amp; Chips</td>\n",
       "    </tr>\n",
       "  </tbody>\n",
       "</table>"
      ],
      "text/plain": [
       "<IPython.core.display.HTML object>"
      ]
     },
     "metadata": {},
     "output_type": "display_data"
    }
   ],
   "source": [
    "data.show_batch()"
   ]
  },
  {
   "cell_type": "code",
   "execution_count": 11,
   "metadata": {},
   "outputs": [],
   "source": [
    "learn = text_classifier_learner(data, AWD_LSTM, drop_mult=0.4, bptt=70)\n"
   ]
  },
  {
   "cell_type": "code",
   "execution_count": 12,
   "metadata": {},
   "outputs": [],
   "source": [
    "learn.load_encoder('just_eat_enc')"
   ]
  },
  {
   "cell_type": "code",
   "execution_count": 13,
   "metadata": {},
   "outputs": [],
   "source": [
    "learn.freeze()"
   ]
  },
  {
   "cell_type": "code",
   "execution_count": 14,
   "metadata": {},
   "outputs": [
    {
     "data": {
      "text/html": [],
      "text/plain": [
       "<IPython.core.display.HTML object>"
      ]
     },
     "metadata": {},
     "output_type": "display_data"
    },
    {
     "name": "stdout",
     "output_type": "stream",
     "text": [
      "LR Finder is complete, type {learner_name}.recorder.plot() to see the graph.\n"
     ]
    }
   ],
   "source": [
    "learn.lr_find()"
   ]
  },
  {
   "cell_type": "code",
   "execution_count": 15,
   "metadata": {},
   "outputs": [
    {
     "data": {
      "image/png": "[encoded data removed]",
      "text/plain": [
       "<Figure size 432x288 with 1 Axes>"
      ]
     },
     "metadata": {
      "needs_background": "light"
     },
     "output_type": "display_data"
    }
   ],
   "source": [
    "learn.recorder.plot()"
   ]
  },
  {
   "cell_type": "code",
   "execution_count": 16,
   "metadata": {},
   "outputs": [
    {
     "data": {
      "text/html": [
       "Total time: 00:49 <p><table style='width:375px; margin-bottom:10px'>\n",
       "  <tr>\n",
       "    <th>epoch</th>\n",
       "    <th>train_loss</th>\n",
       "    <th>valid_loss</th>\n",
       "    <th>accuracy</th>\n",
       "    <th>time</th>\n",
       "  </tr>\n",
       "  <tr>\n",
       "    <th>0</th>\n",
       "    <th>1.617152</th>\n",
       "    <th>1.399925</th>\n",
       "    <th>0.552600</th>\n",
       "    <th>00:09</th>\n",
       "  </tr>\n",
       "  <tr>\n",
       "    <th>1</th>\n",
       "    <th>1.502335</th>\n",
       "    <th>1.367277</th>\n",
       "    <th>0.570000</th>\n",
       "    <th>00:09</th>\n",
       "  </tr>\n",
       "  <tr>\n",
       "    <th>2</th>\n",
       "    <th>1.416953</th>\n",
       "    <th>1.328309</th>\n",
       "    <th>0.587000</th>\n",
       "    <th>00:10</th>\n",
       "  </tr>\n",
       "  <tr>\n",
       "    <th>3</th>\n",
       "    <th>1.367822</th>\n",
       "    <th>1.307802</th>\n",
       "    <th>0.596400</th>\n",
       "    <th>00:10</th>\n",
       "  </tr>\n",
       "  <tr>\n",
       "    <th>4</th>\n",
       "    <th>1.335358</th>\n",
       "    <th>1.322222</th>\n",
       "    <th>0.596400</th>\n",
       "    <th>00:09</th>\n",
       "  </tr>\n",
       "</table>\n"
      ],
      "text/plain": [
       "<IPython.core.display.HTML object>"
      ]
     },
     "metadata": {},
     "output_type": "display_data"
    }
   ],
   "source": [
    "learn.fit_one_cycle(5, 1e-2, moms=(0.2,0.1))"
   ]
  },
  {
   "cell_type": "code",
   "execution_count": 17,
   "metadata": {},
   "outputs": [],
   "source": [
    "learn.freeze_to(-2)"
   ]
  },
  {
   "cell_type": "code",
   "execution_count": 18,
   "metadata": {},
   "outputs": [
    {
     "data": {
      "text/html": [
       "Total time: 00:59 <p><table style='width:375px; margin-bottom:10px'>\n",
       "  <tr>\n",
       "    <th>epoch</th>\n",
       "    <th>train_loss</th>\n",
       "    <th>valid_loss</th>\n",
       "    <th>accuracy</th>\n",
       "    <th>time</th>\n",
       "  </tr>\n",
       "  <tr>\n",
       "    <th>0</th>\n",
       "    <th>1.273751</th>\n",
       "    <th>1.318731</th>\n",
       "    <th>0.613600</th>\n",
       "    <th>00:12</th>\n",
       "  </tr>\n",
       "  <tr>\n",
       "    <th>1</th>\n",
       "    <th>1.165695</th>\n",
       "    <th>1.281255</th>\n",
       "    <th>0.628800</th>\n",
       "    <th>00:11</th>\n",
       "  </tr>\n",
       "  <tr>\n",
       "    <th>2</th>\n",
       "    <th>1.018644</th>\n",
       "    <th>1.306356</th>\n",
       "    <th>0.641000</th>\n",
       "    <th>00:12</th>\n",
       "  </tr>\n",
       "  <tr>\n",
       "    <th>3</th>\n",
       "    <th>0.975139</th>\n",
       "    <th>1.312278</th>\n",
       "    <th>0.647000</th>\n",
       "    <th>00:12</th>\n",
       "  </tr>\n",
       "  <tr>\n",
       "    <th>4</th>\n",
       "    <th>0.906193</th>\n",
       "    <th>1.322944</th>\n",
       "    <th>0.647000</th>\n",
       "    <th>00:11</th>\n",
       "  </tr>\n",
       "</table>\n"
      ],
      "text/plain": [
       "<IPython.core.display.HTML object>"
      ]
     },
     "metadata": {},
     "output_type": "display_data"
    }
   ],
   "source": [
    "learn.fit_one_cycle(5, slice(5e-3/(2.6**4),5e-3), moms=(0.2,0.1))"
   ]
  },
  {
   "cell_type": "code",
   "execution_count": 19,
   "metadata": {},
   "outputs": [
    {
     "data": {
      "text/html": [
       "Total time: 01:29 <p><table style='width:375px; margin-bottom:10px'>\n",
       "  <tr>\n",
       "    <th>epoch</th>\n",
       "    <th>train_loss</th>\n",
       "    <th>valid_loss</th>\n",
       "    <th>accuracy</th>\n",
       "    <th>time</th>\n",
       "  </tr>\n",
       "  <tr>\n",
       "    <th>0</th>\n",
       "    <th>0.903984</th>\n",
       "    <th>1.321950</th>\n",
       "    <th>0.646000</th>\n",
       "    <th>00:18</th>\n",
       "  </tr>\n",
       "  <tr>\n",
       "    <th>1</th>\n",
       "    <th>0.895298</th>\n",
       "    <th>1.337349</th>\n",
       "    <th>0.647400</th>\n",
       "    <th>00:18</th>\n",
       "  </tr>\n",
       "  <tr>\n",
       "    <th>2</th>\n",
       "    <th>0.885295</th>\n",
       "    <th>1.317681</th>\n",
       "    <th>0.646600</th>\n",
       "    <th>00:18</th>\n",
       "  </tr>\n",
       "  <tr>\n",
       "    <th>3</th>\n",
       "    <th>0.864900</th>\n",
       "    <th>1.324378</th>\n",
       "    <th>0.648800</th>\n",
       "    <th>00:18</th>\n",
       "  </tr>\n",
       "  <tr>\n",
       "    <th>4</th>\n",
       "    <th>0.906519</th>\n",
       "    <th>1.322799</th>\n",
       "    <th>0.647600</th>\n",
       "    <th>00:17</th>\n",
       "  </tr>\n",
       "</table>\n"
      ],
      "text/plain": [
       "<IPython.core.display.HTML object>"
      ]
     },
     "metadata": {},
     "output_type": "display_data"
    }
   ],
   "source": [
    "learn.freeze_to(-3)\n",
    "learn.fit_one_cycle(5, slice(1e-4 / (2.6 ** 4), 1e-4), moms=(0.2, 0.1))"
   ]
  },
  {
   "cell_type": "code",
   "execution_count": 20,
   "metadata": {},
   "outputs": [
    {
     "data": {
      "text/html": [
       "Total time: 01:52 <p><table style='width:375px; margin-bottom:10px'>\n",
       "  <tr>\n",
       "    <th>epoch</th>\n",
       "    <th>train_loss</th>\n",
       "    <th>valid_loss</th>\n",
       "    <th>accuracy</th>\n",
       "    <th>time</th>\n",
       "  </tr>\n",
       "  <tr>\n",
       "    <th>0</th>\n",
       "    <th>0.894956</th>\n",
       "    <th>1.328937</th>\n",
       "    <th>0.649200</th>\n",
       "    <th>00:21</th>\n",
       "  </tr>\n",
       "  <tr>\n",
       "    <th>1</th>\n",
       "    <th>0.896844</th>\n",
       "    <th>1.326936</th>\n",
       "    <th>0.647800</th>\n",
       "    <th>00:22</th>\n",
       "  </tr>\n",
       "  <tr>\n",
       "    <th>2</th>\n",
       "    <th>0.877861</th>\n",
       "    <th>1.311369</th>\n",
       "    <th>0.648000</th>\n",
       "    <th>00:21</th>\n",
       "  </tr>\n",
       "  <tr>\n",
       "    <th>3</th>\n",
       "    <th>0.864018</th>\n",
       "    <th>1.329172</th>\n",
       "    <th>0.648400</th>\n",
       "    <th>00:23</th>\n",
       "  </tr>\n",
       "  <tr>\n",
       "    <th>4</th>\n",
       "    <th>0.863219</th>\n",
       "    <th>1.310283</th>\n",
       "    <th>0.650200</th>\n",
       "    <th>00:22</th>\n",
       "  </tr>\n",
       "</table>\n"
      ],
      "text/plain": [
       "<IPython.core.display.HTML object>"
      ]
     },
     "metadata": {},
     "output_type": "display_data"
    }
   ],
   "source": [
    "learn.unfreeze()\n",
    "learn.fit_one_cycle(5, slice(5e-5 / (2.6 ** 4), 5e-5), moms=(0.2, 0.1))"
   ]
  },
  {
   "cell_type": "code",
   "execution_count": 21,
   "metadata": {},
   "outputs": [],
   "source": [
    "    def confusion_matrix(self):\n",
    "        \"Confusion matrix as an `np.ndarray`\"\n",
    "        x=torch.arange(0,data.c)\n",
    "        cm = ((self.pred_class==x[:,None]) & (self.y_true==x[:,None,None])).sum(2)\n",
    "        return cm.cpu().numpy()\n",
    "\n",
    "    def plot_confusion_matrix(self, normalize:bool=False, title:str='Confusion matrix', cmap:Any=\"Blues\", figsize:tuple=None):\n",
    "        \"Plot the confusion matrix\"\n",
    "        # This function is copied from the scikit docs\n",
    "        cm = self.confusion_matrix()\n",
    "        plt.figure(figsize=figsize)\n",
    "        plt.imshow(cm, interpolation='nearest', cmap=cmap)\n",
    "        plt.title(title)\n",
    "        plt.colorbar()\n",
    "        tick_marks = np.arange(len(classes))\n",
    "        plt.xticks(tick_marks, self.data.classes, rotation=45)\n",
    "        plt.yticks(tick_marks, self.data.classes)\n",
    "\n",
    "        if normalize: cm = cm.astype('float') / cm.sum(axis=1)[:, np.newaxis]\n",
    "        thresh = cm.max() / 2.\n",
    "        for i, j in itertools.product(range(cm.shape[0]), range(cm.shape[1])):\n",
    "            plt.text(j, i, cm[i, j], horizontalalignment=\"center\", color=\"white\" if cm[i, j] > thresh else \"black\")\n",
    "\n",
    "        plt.tight_layout()\n",
    "        plt.ylabel('True label')\n",
    "        plt.xlabel('Predicted label')"
   ]
  },
  {
   "cell_type": "code",
   "execution_count": 22,
   "metadata": {},
   "outputs": [],
   "source": [
    "preds,y,losses = learn.get_preds(with_loss=True)\n",
    "interp = ClassificationInterpretation(learn, preds, y, losses)"
   ]
  },
  {
   "cell_type": "code",
   "execution_count": 23,
   "metadata": {
    "scrolled": false
   },
   "outputs": [
    {
     "data": {
      "image/png": "[encoded data removed]",
      "text/plain": [
       "<Figure size 720x720 with 1 Axes>"
      ]
     },
     "metadata": {
      "needs_background": "light"
     },
     "output_type": "display_data"
    }
   ],
   "source": [
    "plt.rcParams.update({'font.size': 14})\n",
    "interp.plot_confusion_matrix(figsize=(10,10))"
   ]
  },
  {
   "cell_type": "code",
   "execution_count": null,
   "metadata": {},
   "outputs": [],
   "source": [
    "learn.save('single_cat_small')"
   ]
  },
  {
   "cell_type": "code",
   "execution_count": 13,
   "metadata": {},
   "outputs": [
    {
     "data": {
      "text/plain": [
       "RNNLearner(data=TextClasDataBunch;\n",
       "\n",
       "Train: LabelList (50000 items)\n",
       "x: TextList\n",
       "xxbos   xxunk f a l a f i l,xxbos   xxunk f a l a f i l,xxbos   xxunk f a l a f i l,xxbos   xxunk f a l a f i l,xxbos   xxunk f a l a f i l\n",
       "y: CategoryList\n",
       "Other,Other,Other,Other,Other\n",
       "Path: .;\n",
       "\n",
       "Valid: LabelList (5000 items)\n",
       "x: TextList\n",
       "xxbos   2 4 7,xxbos   xxunk d e s s e r t s,xxbos   1 0   t o   1 0   i n   d e l h i,xxbos   1 3   0 2   d e s s e r t   c a f e,xxbos   1 4 2 3   c h i n a   k i t c h e n\n",
       "y: CategoryList\n",
       "Burgers,Desserts,Indian,Desserts,Chinese\n",
       "Path: .;\n",
       "\n",
       "Test: None, model=SequentialRNN(\n",
       "  (0): MultiBatchEncoder(\n",
       "    (module): AWD_LSTM(\n",
       "      (encoder): Embedding(46, 400, padding_idx=1)\n",
       "      (encoder_dp): EmbeddingDropout(\n",
       "        (emb): Embedding(46, 400, padding_idx=1)\n",
       "      )\n",
       "      (rnns): ModuleList(\n",
       "        (0): WeightDropout(\n",
       "          (module): LSTM(400, 1150, batch_first=True)\n",
       "        )\n",
       "        (1): WeightDropout(\n",
       "          (module): LSTM(1150, 1150, batch_first=True)\n",
       "        )\n",
       "        (2): WeightDropout(\n",
       "          (module): LSTM(1150, 400, batch_first=True)\n",
       "        )\n",
       "      )\n",
       "      (input_dp): RNNDropout()\n",
       "      (hidden_dps): ModuleList(\n",
       "        (0): RNNDropout()\n",
       "        (1): RNNDropout()\n",
       "        (2): RNNDropout()\n",
       "      )\n",
       "    )\n",
       "  )\n",
       "  (1): PoolingLinearClassifier(\n",
       "    (layers): Sequential(\n",
       "      (0): BatchNorm1d(1200, eps=1e-05, momentum=0.1, affine=True, track_running_stats=True)\n",
       "      (1): Dropout(p=0.16000000000000003)\n",
       "      (2): Linear(in_features=1200, out_features=50, bias=True)\n",
       "      (3): ReLU(inplace)\n",
       "      (4): BatchNorm1d(50, eps=1e-05, momentum=0.1, affine=True, track_running_stats=True)\n",
       "      (5): Dropout(p=0.1)\n",
       "      (6): Linear(in_features=50, out_features=10, bias=True)\n",
       "    )\n",
       "  )\n",
       "), opt_func=functools.partial(<class 'torch.optim.adam.Adam'>, betas=(0.9, 0.99)), loss_func=FlattenedLoss of CrossEntropyLoss(), metrics=[<function accuracy at 0x2b10a3fe8510>], true_wd=True, bn_wd=True, wd=0.01, train_bn=True, path=PosixPath('.'), model_dir='models', callback_fns=[functools.partial(<class 'fastai.basic_train.Recorder'>, add_time=True, silent=False)], callbacks=[RNNTrainer\n",
       "learn: ...\n",
       "alpha: 2.0\n",
       "beta: 1.0], layer_groups=[Sequential(\n",
       "  (0): Embedding(46, 400, padding_idx=1)\n",
       "  (1): EmbeddingDropout(\n",
       "    (emb): Embedding(46, 400, padding_idx=1)\n",
       "  )\n",
       "), Sequential(\n",
       "  (0): WeightDropout(\n",
       "    (module): LSTM(400, 1150, batch_first=True)\n",
       "  )\n",
       "  (1): RNNDropout()\n",
       "), Sequential(\n",
       "  (0): WeightDropout(\n",
       "    (module): LSTM(1150, 1150, batch_first=True)\n",
       "  )\n",
       "  (1): RNNDropout()\n",
       "), Sequential(\n",
       "  (0): WeightDropout(\n",
       "    (module): LSTM(1150, 400, batch_first=True)\n",
       "  )\n",
       "  (1): RNNDropout()\n",
       "), Sequential(\n",
       "  (0): PoolingLinearClassifier(\n",
       "    (layers): Sequential(\n",
       "      (0): BatchNorm1d(1200, eps=1e-05, momentum=0.1, affine=True, track_running_stats=True)\n",
       "      (1): Dropout(p=0.16000000000000003)\n",
       "      (2): Linear(in_features=1200, out_features=50, bias=True)\n",
       "      (3): ReLU(inplace)\n",
       "      (4): BatchNorm1d(50, eps=1e-05, momentum=0.1, affine=True, track_running_stats=True)\n",
       "      (5): Dropout(p=0.1)\n",
       "      (6): Linear(in_features=50, out_features=10, bias=True)\n",
       "    )\n",
       "  )\n",
       ")], add_time=True, silent=None)"
      ]
     },
     "execution_count": 13,
     "metadata": {},
     "output_type": "execute_result"
    }
   ],
   "source": [
    "learn.load('single_cat_small')"
   ]
  },
  {
   "cell_type": "code",
   "execution_count": 13,
   "metadata": {},
   "outputs": [
    {
     "data": {
      "text/plain": [
       "(Category Indian,\n",
       " tensor(5),\n",
       " tensor([2.7637e-02, 2.2467e-03, 5.5933e-02, 6.1825e-04, 2.3017e-02, 7.2258e-01,\n",
       "         7.8372e-02, 2.5950e-02, 6.2978e-02, 6.6851e-04]))"
      ]
     },
     "execution_count": 13,
     "metadata": {},
     "output_type": "execute_result"
    }
   ],
   "source": [
    "learn.predict(\"punjab takeaway\")"
   ]
  },
  {
   "cell_type": "code",
   "execution_count": 28,
   "metadata": {},
   "outputs": [
    {
     "data": {
      "text/plain": [
       "(Category Fish & Chips,\n",
       " tensor(4),\n",
       " tensor([1.8474e-02, 1.0266e-04, 3.8295e-02, 7.0320e-04, 8.0573e-01, 1.7860e-03,\n",
       "         1.0983e-01, 3.5390e-06, 2.5076e-02, 4.2007e-06]))"
      ]
     },
     "execution_count": 28,
     "metadata": {},
     "output_type": "execute_result"
    }
   ],
   "source": [
    "learn.predict(\"fryer tuck\")"
   ]
  },
  {
   "cell_type": "code",
   "execution_count": 29,
   "metadata": {},
   "outputs": [
    {
     "data": {
      "text/plain": [
       "(Category Chinese,\n",
       " tensor(2),\n",
       " tensor([1.5457e-02, 5.2282e-04, 7.9409e-01, 3.2115e-04, 1.1999e-02, 2.8519e-02,\n",
       "         1.0909e-01, 4.1703e-03, 3.4214e-02, 1.6141e-03]))"
      ]
     },
     "execution_count": 29,
     "metadata": {},
     "output_type": "execute_result"
    }
   ],
   "source": [
    "learn.predict(\"pearl palace\")"
   ]
  },
  {
   "cell_type": "code",
   "execution_count": 30,
   "metadata": {},
   "outputs": [
    {
     "data": {
      "text/plain": [
       "(Category Other,\n",
       " tensor(7),\n",
       " tensor([2.2274e-06, 4.8177e-03, 1.0375e-03, 5.9754e-07, 5.2452e-06, 6.4751e-05,\n",
       "         3.7330e-05, 9.9393e-01, 3.8982e-05, 6.6478e-05]))"
      ]
     },
     "execution_count": 30,
     "metadata": {},
     "output_type": "execute_result"
    }
   ],
   "source": [
    "learn.predict(\"jerk house\")"
   ]
  },
  {
   "cell_type": "code",
   "execution_count": 31,
   "metadata": {},
   "outputs": [
    {
     "data": {
      "text/plain": [
       "(Category Kebab,\n",
       " tensor(6),\n",
       " tensor([6.6070e-04, 9.3943e-04, 3.5326e-05, 2.6043e-05, 2.9366e-03, 4.0405e-02,\n",
       "         8.8400e-01, 7.0068e-04, 7.0288e-02, 7.7062e-06]))"
      ]
     },
     "execution_count": 31,
     "metadata": {},
     "output_type": "execute_result"
    }
   ],
   "source": [
    "learn.predict(\"abra kebabra\")"
   ]
  },
  {
   "cell_type": "code",
   "execution_count": 32,
   "metadata": {},
   "outputs": [
    {
     "data": {
      "text/plain": [
       "(Category Kebab,\n",
       " tensor(6),\n",
       " tensor([0.0217, 0.0017, 0.0081, 0.1356, 0.0055, 0.0327, 0.6292, 0.0112, 0.1503,\n",
       "         0.0040]))"
      ]
     },
     "execution_count": 32,
     "metadata": {},
     "output_type": "execute_result"
    }
   ],
   "source": [
    "learn.predict(\"mcdoner\")"
   ]
  },
  {
   "cell_type": "code",
   "execution_count": 33,
   "metadata": {},
   "outputs": [
    {
     "data": {
      "text/plain": [
       "(Category Chicken,\n",
       " tensor(1),\n",
       " tensor([9.5473e-03, 9.8725e-01, 7.9996e-05, 1.0415e-07, 2.6552e-04, 4.1153e-05,\n",
       "         5.7330e-04, 8.0468e-06, 2.1002e-03, 1.3290e-04]))"
      ]
     },
     "execution_count": 33,
     "metadata": {},
     "output_type": "execute_result"
    }
   ],
   "source": [
    "learn.predict(\"southern fried chicken\")"
   ]
  },
  {
   "cell_type": "code",
   "execution_count": 34,
   "metadata": {},
   "outputs": [
    {
     "data": {
      "text/plain": [
       "(Category Pizza,\n",
       " tensor(8),\n",
       " tensor([1.0025e-02, 2.2469e-02, 2.8545e-04, 1.5757e-02, 8.6009e-03, 2.0099e-02,\n",
       "         4.0656e-02, 5.4717e-03, 8.7086e-01, 5.7738e-03]))"
      ]
     },
     "execution_count": 34,
     "metadata": {},
     "output_type": "execute_result"
    }
   ],
   "source": [
    "learn.predict(\"luigis pizza parlour\")"
   ]
  },
  {
   "cell_type": "code",
   "execution_count": 35,
   "metadata": {},
   "outputs": [
    {
     "data": {
      "text/plain": [
       "(Category Sandwich / Coffee Shops / Bakery,\n",
       " tensor(9),\n",
       " tensor([7.3856e-02, 2.5248e-03, 8.1018e-04, 5.3371e-05, 4.6771e-03, 1.8688e-04,\n",
       "         5.1779e-04, 2.4062e-03, 7.5413e-04, 9.1421e-01]))"
      ]
     },
     "execution_count": 35,
     "metadata": {},
     "output_type": "execute_result"
    }
   ],
   "source": [
    "learn.predict(\"mrs boggins sandwich shop\")"
   ]
  },
  {
   "cell_type": "code",
   "execution_count": 36,
   "metadata": {},
   "outputs": [
    {
     "data": {
      "text/plain": [
       "(Category Fish & Chips,\n",
       " tensor(4),\n",
       " tensor([7.3236e-05, 2.4389e-05, 1.1544e-04, 5.6321e-07, 9.9178e-01, 2.7096e-05,\n",
       "         5.4237e-04, 2.9775e-06, 7.4144e-03, 1.6882e-05]))"
      ]
     },
     "execution_count": 36,
     "metadata": {},
     "output_type": "execute_result"
    }
   ],
   "source": [
    "learn.predict(\"codfather\")"
   ]
  },
  {
   "cell_type": "code",
   "execution_count": 37,
   "metadata": {},
   "outputs": [
    {
     "data": {
      "text/plain": [
       "(Category Fish & Chips,\n",
       " tensor(4),\n",
       " tensor([2.0147e-06, 2.2566e-09, 3.1731e-05, 7.5502e-07, 9.9991e-01, 6.2470e-07,\n",
       "         1.9640e-05, 9.5660e-07, 3.3538e-05, 2.1633e-09]))"
      ]
     },
     "execution_count": 37,
     "metadata": {},
     "output_type": "execute_result"
    }
   ],
   "source": [
    "learn.predict(\"tasty plaice\")"
   ]
  },
  {
   "cell_type": "code",
   "execution_count": 38,
   "metadata": {},
   "outputs": [
    {
     "data": {
      "text/plain": [
       "(Category Indian,\n",
       " tensor(5),\n",
       " tensor([6.4513e-04, 1.7341e-03, 8.9640e-04, 7.2752e-07, 1.4044e-05, 8.8250e-01,\n",
       "         9.9298e-02, 6.9393e-03, 7.9700e-03, 3.8387e-06]))"
      ]
     },
     "execution_count": 38,
     "metadata": {},
     "output_type": "execute_result"
    }
   ],
   "source": [
    "learn.predict(\"saajan halal\")"
   ]
  },
  {
   "cell_type": "code",
   "execution_count": 39,
   "metadata": {},
   "outputs": [
    {
     "data": {
      "text/plain": [
       "(Category Sandwich / Coffee Shops / Bakery,\n",
       " tensor(9),\n",
       " tensor([0.1128, 0.0213, 0.0986, 0.0041, 0.0046, 0.0709, 0.0082, 0.0195, 0.0230,\n",
       "         0.6368]))"
      ]
     },
     "execution_count": 39,
     "metadata": {},
     "output_type": "execute_result"
    }
   ],
   "source": [
    "learn.predict(\"roll on lunch time\")"
   ]
  },
  {
   "cell_type": "code",
   "execution_count": 40,
   "metadata": {},
   "outputs": [
    {
     "data": {
      "text/plain": [
       "(Category Chinese,\n",
       " tensor(2),\n",
       " tensor([3.2940e-05, 5.8488e-04, 9.9772e-01, 2.1368e-07, 2.0066e-04, 1.3797e-04,\n",
       "         4.5403e-05, 7.8544e-04, 8.6255e-05, 4.0301e-04]))"
      ]
     },
     "execution_count": 40,
     "metadata": {},
     "output_type": "execute_result"
    }
   ],
   "source": [
    "learn.predict(\"wok n roll\")"
   ]
  },
  {
   "cell_type": "code",
   "execution_count": 41,
   "metadata": {},
   "outputs": [
    {
     "data": {
      "text/plain": [
       "(Category Chicken,\n",
       " tensor(1),\n",
       " tensor([8.7550e-03, 6.3568e-01, 1.2099e-03, 5.4512e-05, 3.5214e-03, 8.3307e-03,\n",
       "         2.4597e-01, 2.5749e-03, 9.3791e-02, 1.1054e-04]))"
      ]
     },
     "execution_count": 41,
     "metadata": {},
     "output_type": "execute_result"
    }
   ],
   "source": [
    "learn.predict(\"abc barbeque\")"
   ]
  },
  {
   "cell_type": "code",
   "execution_count": 42,
   "metadata": {},
   "outputs": [
    {
     "data": {
      "text/plain": [
       "(Category Chinese,\n",
       " tensor(2),\n",
       " tensor([2.6111e-08, 6.7174e-04, 9.9932e-01, 2.7372e-08, 7.8717e-08, 1.1921e-06,\n",
       "         4.5714e-07, 2.8657e-06, 5.7468e-06, 3.2086e-10]))"
      ]
     },
     "execution_count": 42,
     "metadata": {},
     "output_type": "execute_result"
    }
   ],
   "source": [
    "learn.predict(\"kwong yick\")"
   ]
  },
  {
   "cell_type": "code",
   "execution_count": 43,
   "metadata": {},
   "outputs": [
    {
     "data": {
      "text/plain": [
       "(Category Kebab,\n",
       " tensor(6),\n",
       " tensor([4.6205e-02, 1.8665e-01, 2.8204e-03, 5.8801e-04, 3.2780e-03, 7.2523e-02,\n",
       "         6.0245e-01, 2.1142e-02, 6.1434e-02, 2.9093e-03]))"
      ]
     },
     "execution_count": 43,
     "metadata": {},
     "output_type": "execute_result"
    }
   ],
   "source": [
    "learn.predict(\"bodrum grill\")"
   ]
  },
  {
   "cell_type": "code",
   "execution_count": 44,
   "metadata": {},
   "outputs": [
    {
     "data": {
      "text/plain": [
       "(Category Chicken,\n",
       " tensor(1),\n",
       " tensor([9.6075e-03, 8.2938e-01, 3.6681e-04, 2.3368e-04, 4.5770e-04, 1.4793e-02,\n",
       "         8.0937e-02, 1.0756e-03, 6.2777e-02, 3.7327e-04]))"
      ]
     },
     "execution_count": 44,
     "metadata": {},
     "output_type": "execute_result"
    }
   ],
   "source": [
    "learn.predict(\"baraka peri peri\")"
   ]
  },
  {
   "cell_type": "code",
   "execution_count": 45,
   "metadata": {},
   "outputs": [
    {
     "data": {
      "text/plain": [
       "(Category Chicken,\n",
       " tensor(1),\n",
       " tensor([3.8296e-02, 8.8140e-01, 1.3228e-03, 1.7242e-05, 1.9285e-03, 5.8008e-03,\n",
       "         2.2073e-02, 3.6662e-03, 4.5496e-02, 2.7672e-06]))"
      ]
     },
     "execution_count": 45,
     "metadata": {},
     "output_type": "execute_result"
    }
   ],
   "source": [
    "learn.predict(\"chick king\")"
   ]
  },
  {
   "cell_type": "code",
   "execution_count": 46,
   "metadata": {},
   "outputs": [
    {
     "data": {
      "text/plain": [
       "(Category Chinese,\n",
       " tensor(2),\n",
       " tensor([0.0070, 0.0370, 0.4723, 0.0178, 0.0085, 0.3428, 0.0445, 0.0119, 0.0559,\n",
       "         0.0023]))"
      ]
     },
     "execution_count": 46,
     "metadata": {},
     "output_type": "execute_result"
    }
   ],
   "source": [
    "learn.predict(\"red ruby\")"
   ]
  },
  {
   "cell_type": "code",
   "execution_count": 47,
   "metadata": {},
   "outputs": [
    {
     "data": {
      "text/plain": [
       "(Category Chicken,\n",
       " tensor(1),\n",
       " tensor([3.9107e-01, 6.0143e-01, 4.2812e-05, 5.7336e-07, 8.0084e-05, 7.4131e-05,\n",
       "         8.8750e-04, 1.9423e-06, 2.8057e-03, 3.6055e-03]))"
      ]
     },
     "execution_count": 47,
     "metadata": {},
     "output_type": "execute_result"
    }
   ],
   "source": [
    "learn.predict(\"southern rooster\")"
   ]
  },
  {
   "cell_type": "code",
   "execution_count": 48,
   "metadata": {},
   "outputs": [
    {
     "data": {
      "text/plain": [
       "(Category Sandwich / Coffee Shops / Bakery,\n",
       " tensor(9),\n",
       " tensor([1.1249e-01, 1.9927e-03, 3.8209e-04, 8.5871e-05, 8.0058e-03, 5.2366e-03,\n",
       "         2.1714e-03, 1.5343e-05, 1.5443e-02, 8.5418e-01]))"
      ]
     },
     "execution_count": 48,
     "metadata": {},
     "output_type": "execute_result"
    }
   ],
   "source": [
    "learn.predict(\"busters\")"
   ]
  },
  {
   "cell_type": "code",
   "execution_count": 49,
   "metadata": {},
   "outputs": [
    {
     "data": {
      "text/plain": [
       "(Category Chinese,\n",
       " tensor(2),\n",
       " tensor([0.0333, 0.0584, 0.3508, 0.0168, 0.0152, 0.1338, 0.0269, 0.0765, 0.0532,\n",
       "         0.2351]))"
      ]
     },
     "execution_count": 49,
     "metadata": {},
     "output_type": "execute_result"
    }
   ],
   "source": [
    "learn.predict(\"shinzo abe\")"
   ]
  },
  {
   "cell_type": "code",
   "execution_count": 50,
   "metadata": {},
   "outputs": [
    {
     "data": {
      "text/plain": [
       "(Category Sandwich / Coffee Shops / Bakery,\n",
       " tensor(9),\n",
       " tensor([0.0077, 0.0243, 0.0112, 0.0793, 0.0013, 0.1438, 0.0151, 0.0032, 0.0240,\n",
       "         0.6901]))"
      ]
     },
     "execution_count": 50,
     "metadata": {},
     "output_type": "execute_result"
    }
   ],
   "source": [
    "learn.predict(\"massive pies\")"
   ]
  },
  {
   "cell_type": "code",
   "execution_count": 17,
   "metadata": {},
   "outputs": [
    {
     "data": {
      "text/plain": [
       "(Category Chinese,\n",
       " tensor(2),\n",
       " tensor([1.2554e-06, 7.1570e-06, 9.9993e-01, 2.1765e-07, 1.6589e-06, 3.3290e-05,\n",
       "         2.4491e-06, 4.0708e-06, 7.5268e-06, 1.0651e-05]))"
      ]
     },
     "execution_count": 17,
     "metadata": {},
     "output_type": "execute_result"
    }
   ],
   "source": [
    "learn.predict(\"thai kitchen\")"
   ]
  },
  {
   "cell_type": "code",
   "execution_count": 25,
   "metadata": {},
   "outputs": [
    {
     "data": {
      "text/plain": [
       "(Category Chinese,\n",
       " tensor(2),\n",
       " tensor([4.9446e-05, 1.9667e-04, 9.9867e-01, 1.2894e-05, 8.8005e-05, 1.1951e-04,\n",
       "         1.0663e-04, 3.0278e-04, 6.1811e-05, 3.8889e-04]))"
      ]
     },
     "execution_count": 25,
     "metadata": {},
     "output_type": "execute_result"
    }
   ],
   "source": [
    "learn.predict(\"wok this way\")"
   ]
  },
  {
   "cell_type": "code",
   "execution_count": 24,
   "metadata": {},
   "outputs": [
    {
     "data": {
      "text/plain": [
       "(Category Fish & Chips,\n",
       " tensor(4),\n",
       " tensor([0.0715, 0.0211, 0.0189, 0.1014, 0.4176, 0.0580, 0.0081, 0.0786, 0.0426,\n",
       "         0.1821]))"
      ]
     },
     "execution_count": 24,
     "metadata": {},
     "output_type": "execute_result"
    }
   ],
   "source": [
    "learn.predict(\"a salt & battery\")"
   ]
  },
  {
   "cell_type": "code",
   "execution_count": 21,
   "metadata": {},
   "outputs": [
    {
     "data": {
      "text/plain": [
       "(Category Fish & Chips,\n",
       " tensor(4),\n",
       " tensor([6.9117e-03, 2.3656e-05, 3.6518e-03, 5.4409e-04, 9.8497e-01, 8.2071e-04,\n",
       "         1.9516e-04, 2.1034e-03, 3.9046e-04, 3.8956e-04]))"
      ]
     },
     "execution_count": 21,
     "metadata": {},
     "output_type": "execute_result"
    }
   ],
   "source": [
    "learn.predict(\"the frying squad\")"
   ]
  },
  {
   "cell_type": "code",
   "execution_count": 22,
   "metadata": {},
   "outputs": [
    {
     "data": {
      "text/plain": [
       "(Category Fish & Chips,\n",
       " tensor(4),\n",
       " tensor([1.1754e-03, 2.9537e-03, 2.2386e-04, 3.2495e-06, 9.5579e-01, 6.4091e-04,\n",
       "         1.5319e-02, 1.7481e-03, 2.1986e-02, 1.5560e-04]))"
      ]
     },
     "execution_count": 22,
     "metadata": {},
     "output_type": "execute_result"
    }
   ],
   "source": [
    "learn.predict(\"fishcotheque\")"
   ]
  },
  {
   "cell_type": "code",
   "execution_count": 14,
   "metadata": {},
   "outputs": [
    {
     "data": {
      "text/plain": [
       "(Category Fish & Chips,\n",
       " tensor(4),\n",
       " tensor([2.3707e-03, 9.8349e-04, 1.2795e-02, 2.2588e-04, 9.3830e-01, 2.8328e-03,\n",
       "         2.7472e-02, 1.5419e-03, 1.3170e-02, 3.0843e-04]))"
      ]
     },
     "execution_count": 14,
     "metadata": {},
     "output_type": "execute_result"
    }
   ],
   "source": [
    "learn.predict(\"fission chips\")"
   ]
  },
  {
   "cell_type": "code",
   "execution_count": 16,
   "metadata": {},
   "outputs": [
    {
     "data": {
      "text/plain": [
       "(Category Sandwich / Coffee Shops / Bakery,\n",
       " tensor(9),\n",
       " tensor([3.7139e-04, 2.4361e-03, 8.3741e-04, 2.0589e-02, 5.4534e-04, 4.4669e-04,\n",
       "         6.2613e-04, 7.3786e-03, 2.3059e-03, 9.6446e-01]))"
      ]
     },
     "execution_count": 16,
     "metadata": {},
     "output_type": "execute_result"
    }
   ],
   "source": [
    "learn.predict(\"coffee suprise\")"
   ]
  },
  {
   "cell_type": "code",
   "execution_count": null,
   "metadata": {},
   "outputs": [],
   "source": []
  }
 ],
 "metadata": {
  "kernelspec": {
   "display_name": "Python 3",
   "language": "python",
   "name": "python3"
  },
  "language_info": {
   "codemirror_mode": {
    "name": "ipython",
    "version": 3
   },
   "file_extension": ".py",
   "mimetype": "text/x-python",
   "name": "python",
   "nbconvert_exporter": "python",
   "pygments_lexer": "ipython3",
   "version": "3.7.2"
  }
 },
 "nbformat": 4,
 "nbformat_minor": 2
}
